{
 "cells": [
  {
   "cell_type": "markdown",
   "metadata": {},
   "source": [
    "# 第4回本課題 / Exercises 4"
   ]
  },
  {
   "cell_type": "markdown",
   "metadata": {},
   "source": [
    "## Ex4-1. モジュールの作成\n",
    "\n",
    "### 準備：CSV形式とは\n",
    "\n",
    "CSV (Comma-Separated Values) ファイルとは、複数の値をコンマで区切って記録するファイル形式です。\n",
    "CSVファイルには、数値や文字列からなる表形式のデータがテキストとして記録されています。\n",
    "各行がひとまとまりのデータに相当します。\n",
    "各行は一つ以上の値からなり、コンマ(`','`)で区切られます。\n",
    "\n",
    "例えば、ファイル`small.csv`には以下のようなテキストが書き込まれています。   \n",
    "```\n",
    "11,12,13,14,15\n",
    "21,22,23,24,25\n",
    "31,32,33,34,35\n",
    "```\n",
    "\n",
    "これは、次の表で表されるようなデータを意味しています。\n",
    "\n",
    "行\\列 | 0列目 | 1列目 | 2列目 | 3列目 | 4列目 \n",
    "---|---|---|---|---|---\n",
    "0行目 | 11 | 12 | 13 | 14 | 15 \n",
    "1行目 | 21 | 22 | 23 | 24 | 25 \n",
    "2行目 | 31 | 32 | 33 | 34 | 35 \n",
    "\n",
    "（CSV形式のファイルの取り扱いについてもっと詳しく知りたい方は、[Pythonプログラミング入門 付録：CSVファイル](../appendix/4-csv.ipynb)を参照してください。）"
   ]
  },
  {
   "cell_type": "markdown",
   "metadata": {},
   "source": [
    "## Ex4-1. Creating a module\n",
    "\n",
    "### Preparation\n",
    "\n",
    "A CSV (Comma-Separated Values) file is a text file that uses commas to separate values.\n",
    "A CSV file stores tabular data (numbers and text) in plain text.\n",
    "Each line of a CSV file is a data record.\n",
    "Each record consists of one or more fields, separated by commas.\n",
    "\n",
    "For example, the following text is stored in the file named `small.csv`:\n",
    "```\n",
    "11,12,13,14,15\n",
    "21,22,23,24,25\n",
    "31,32,33,34,35\n",
    "```\n",
    "\n",
    "This represents the tabular data below:\n",
    "\n",
    "row\\col | 0th | 1st | 2nd | 3rd | 4th \n",
    "--|---|---|---|---|---\n",
    "0th | 11 | 12 | 13 | 14 | 15 \n",
    "1st | 21 | 22 | 23 | 24 | 25 \n",
    "2nd | 31 | 32 | 33 | 34 | 35"
   ]
  },
  {
   "cell_type": "markdown",
   "metadata": {},
   "source": [
    "### 課題\n",
    "\n",
    "`mymodule.py`というファイル名のモジュールを作成し、その中でファイル名`csvfile`と文字コード`code`を受け取ると、そのCSVファイルを読み込んで2次元のリスト（リストのリスト）に変換したものを返す関数`mycsvread`を定義してください。\n",
    "\n",
    "たとえば上の`small.csv`を\n",
    "\n",
    "---\n",
    "\n",
    "```python\n",
    "import mymodule\n",
    "l = mymodule.mycsvread('small.csv', 'sjis')\n",
    "```\n",
    "\n",
    "---\n",
    "\n",
    "として読み込むと、変数`l`には\n",
    "\n",
    "`[['11', '12', '13', '14', '15'], ['21', '22', '23', '24', '25'], ['31', '32', '33', '34', '35']]`\n",
    "\n",
    "が代入されます。\n",
    "\n",
    "関数`mycsvread`の中では以下のことを行います。\n",
    "\n",
    "1. ファイル名`csvfile`を文字コード`code`で開く\n",
    "2. 戻り値に使用するリスト(例えば`outlist`）を定義する\n",
    "3. ファイルを1行ずつ読み込んで、末尾の改行コードを取り除いた上で、コンマ(`,`)で区切ってリストに変換する\n",
    "4. 3.のリストを2.で定義したリスト`outlist`にappendする(これにより`outlist`は二次元のリストになる）\n",
    "5. ファイルを読み終えるまで3.～4.を繰り返す\n",
    "6. 二次元のリスト`outlist`を返す\n",
    "\n",
    "\n",
    "### 注意\n",
    "\n",
    "モジュールのファイルを更新したら、それをimportするノートブックでは、\n",
    "KernelメニューのRestart項目を選択するか、右回りのボタンを押すかして、\n",
    "Pythonの処理系を再起動してから、\n",
    "importを実行してください。\n",
    "\n",
    "ノートブック上で単にimportを実行するだけでは、\n",
    "更新されたモジュールは読み込まれません。"
   ]
  },
  {
   "cell_type": "markdown",
   "metadata": {},
   "source": [
    "### Exercises\n",
    "\n",
    "Make a module file named `mymodule.py`, and inside the module file, define a function named `mycsvread` which receives a CSV file named `csvfile` and an encoding `code`, opens and reads the CSV file, converts it to a two-dimensional list, and returns the list.\n",
    "\n",
    "Suppose the CSV file named `small.csv`, which is introduced above, is read as follows:\n",
    "\n",
    "---\n",
    "\n",
    "```python\n",
    "import mymodule\n",
    "l = mymodule.mycsvread('small.csv', 'sjis')\n",
    "```\n",
    "\n",
    "---\n",
    "\n",
    "Then, the following two-dimensional list is assigned to the variable `l`:\n",
    "\n",
    "`[['11', '12', '13', '14', '15'], ['21', '22', '23', '24', '25'], ['31', '32', '33', '34', '35']]`\n",
    "\n",
    "The procedure of the function `mycsvread` will be as follows:\n",
    "\n",
    "1. Open a file named `csvfile` with an encoding `code`.\n",
    "2. Define a list variable which will be used for a return value. Let the name of the list be `outlist` as an example.\n",
    "3. Read one line from the file, remove the trailing newline character and split the line with a comma (`,`). The line will be converted to a list as a result.\n",
    "4. Append the list generated at step 3. to the list `outlist` defined at step 2. The list `outlist` will be a two-dimensional list as a result.\n",
    "5. Continue steps 3. and 4. until the file ends.\n",
    "6. Return the two-dimensional list `outlist`.\n",
    "\n",
    "\n",
    "### Attention\n",
    "\n",
    "After you update a module file, select the Restart item of the Kernel menu\n",
    "or press the button with the turn-clockwise arrow on the notebook that imports the file\n",
    "in order to restart the background Python interpreter,\n",
    "and then execute `import`.\n",
    "\n",
    "Simply executing `import` does not reload the updated module."
   ]
  },
  {
   "cell_type": "code",
   "execution_count": 2,
   "metadata": {},
   "outputs": [],
   "source": [
    "##########################################################\n",
    "##  <[ ex4-1-mymodule ]> 解答セル (Answer cell)\n",
    "##  このコメントの書き変えを禁ず (Never edit this comment)\n",
    "##########################################################\n",
    "\n",
    "## 注意：この課題では mymodule.py を作り、そこに解答を記述し、これを提出してください。\n",
    "## NOTE: In this exercise, you must create, write and submit mymodule.py."
   ]
  },
  {
   "cell_type": "markdown",
   "metadata": {},
   "source": [
    "提出前に以下のテストセルを実行し、 `True` のみが出力されることを確認してください。"
   ]
  },
  {
   "cell_type": "markdown",
   "metadata": {},
   "source": [
    "Before submission, execute the following test cell and check if only `True` is printed."
   ]
  },
  {
   "cell_type": "code",
   "execution_count": 3,
   "metadata": {},
   "outputs": [
    {
     "name": "stdout",
     "output_type": "stream",
     "text": [
      "True\n"
     ]
    }
   ],
   "source": [
    "import mymodule\n",
    "\n",
    "temp = mymodule.mycsvread('small.csv', 'sjis')\n",
    "print(temp == [['11', '12', '13', '14', '15'], ['21', '22', '23', '24', '25'], ['31', '32', '33', '34', '35']])"
   ]
  },
  {
   "cell_type": "code",
   "execution_count": null,
   "metadata": {},
   "outputs": [],
   "source": []
  }
 ],
 "metadata": {
  "kernelspec": {
   "display_name": "Python 3",
   "language": "python",
   "name": "python3"
  },
  "language_info": {
   "codemirror_mode": {
    "name": "ipython",
    "version": 3
   },
   "file_extension": ".py",
   "mimetype": "text/x-python",
   "name": "python",
   "nbconvert_exporter": "python",
   "pygments_lexer": "ipython3",
   "version": "3.6.8"
  },
  "lecture_term": "2019A1"
 },
 "nbformat": 4,
 "nbformat_minor": 4
}
