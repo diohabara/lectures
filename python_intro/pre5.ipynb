{
 "cells": [
  {
   "cell_type": "markdown",
   "metadata": {},
   "source": [
    "# 第5回予習課題 / Preparations 5"
   ]
  },
  {
   "cell_type": "markdown",
   "metadata": {},
   "source": [
    "## Pre5-1. 復元と総和\n",
    "\n",
    "ファイル名`fname`を取り、そのファイルに保存されている1次元配列の総和を返す関数`load_sum()`を定義してください。\n",
    "ただし、Python標準の`open()`・`sum()`・`len()`などの組込み関数は用いずに、\n",
    "`numpy`モジュールが提供する関数や配列のメソッドのみを使って定義してください。\n",
    "また、指定されたファイルは、`numpy.savetxt()`を利用して、長さ0以上の1次元配列が1つだけ保存されていると仮定してかまいません。"
   ]
  },
  {
   "cell_type": "markdown",
   "metadata": {},
   "source": [
    "## Pre5-1. Load and sum\n",
    "\n",
    "Define a function `load_sum()` that takes a file name `fname`, and returns the sum of the array stored in the specified file,\n",
    "with the proviso that the standard builtin functions (e.g., `open()`, `sum()`, and `len()`) are prohibited,\n",
    "and only functions and array methods provided by the numpy module are available.\n",
    "You are allowed to assume that only a one-dimensional array whose size is greater than or equal to 0 is stored by using `numpy.savetxt()` in the specified file."
   ]
  },
  {
   "cell_type": "code",
   "execution_count": 3,
   "metadata": {},
   "outputs": [],
   "source": [
    "##########################################################\n",
    "##  <[ pre5-1-load_sum ]> 解答セル (Answer cell)\n",
    "##  このコメントの書き変えを禁ず (Never edit this comment)\n",
    "##########################################################\n",
    "\n",
    "import numpy as np\n",
    "\n",
    "def load_sum(fname):\n",
    "    a = np.loadtxt(fname)\n",
    "    return a.sum()"
   ]
  },
  {
   "cell_type": "markdown",
   "metadata": {},
   "source": [
    "提出前に以下のテストセルを実行し、 `True` のみが出力されることを確認してください。"
   ]
  },
  {
   "cell_type": "markdown",
   "metadata": {},
   "source": [
    "Before submission, execute the following test cell and check if only `True` is printed."
   ]
  },
  {
   "cell_type": "code",
   "execution_count": 4,
   "metadata": {},
   "outputs": [
    {
     "name": "stdout",
     "output_type": "stream",
     "text": [
      "True\n",
      "True\n",
      "True\n",
      "True\n",
      "True\n"
     ]
    }
   ],
   "source": [
    "def tester():\n",
    "    import numpy as np\n",
    "    TEST_ANSWERS = (0.417022004702574, 4.113872595619601, 47.23667917192546, 489.81531064337395, 4979.073613867125)\n",
    "    for i in range(5):\n",
    "        filename = f'test_pre5-1_given{i}.txt'\n",
    "        n = 10**i\n",
    "        np.random.seed(n)\n",
    "        a = np.random.rand(n)\n",
    "        np.savetxt(filename, a)\n",
    "        print(abs(TEST_ANSWERS[i] - load_sum(filename)) < 1e-7)\n",
    "tester()"
   ]
  },
  {
   "cell_type": "markdown",
   "metadata": {},
   "source": [
    "## Pre5-2. コサイン類似度\n",
    "\n",
    "2つのベクトルの類似性を表す指標として標準的に用いられるものの1つが、それらが成す角$\\theta$の余弦値$\\cos \\theta$です。\n",
    "それらのベクトルの方向が近ければ近いほど、$\\cos \\theta$は1に近づいていきます。\n",
    "一般に、これをコサイン類似度と呼びます。\n",
    "\n",
    "さて、2つの1次元配列`x`と`y`を取って、それらのコサイン類似度を返す関数`cos_sim()`を定義してください。\n",
    "ただし、for文やwhile文などの反復処理は用いずに、`numpy`モジュールが提供する関数や配列のメソッドのみを使って定義してください。\n",
    "また、`x`と`y`の要素数は等しく、0より大きいと仮定してかまいません。\n",
    "\n",
    "2つのベクトル $\\overrightarrow{a} = [a_1, \\ldots, a_n]$と$\\overrightarrow{b} = [b_1, \\ldots, b_n]$ の成す角$\\theta$としたとき、次の関係が成り立つことを利用してかまいません。\n",
    "\n",
    "$\\cos \\theta = \\frac{\\sum_{i=1}^n a_i b_i}{\\sqrt{\\sum_{i=1}^{n} a_i^2} \\sqrt{\\sum_{i=1}^n b_i^2}}$"
   ]
  },
  {
   "cell_type": "markdown",
   "metadata": {},
   "source": [
    "## Pre5-2. Cosine similarity\n",
    "\n",
    "One of the standard criteria to estimate a similarity between two vectors is $\\cos \\theta$, where $\\theta$ is the angle between them.\n",
    "$\\cos \\theta$ approaches 1 when the directions of them get closer.\n",
    "It is generally called the cosine similarity.\n",
    "\n",
    "Define a function `cos_sim()` that takes two one-dimensional arrays `x` and `y`, and returns the cosine similarity between them,\n",
    "with the proviso that iteration by `for` and `while` is prohibited,\n",
    "and only functions and array methods provided by the `numpy` module are available.\n",
    "You are allowed to assume that the sizes of `x` and `y` are equal and positive.\n",
    "\n",
    "Note that, letting $\\overrightarrow{a} = [a_1, \\ldots, a_n]$, $\\overrightarrow{b} = [b_1, \\ldots, b_n]$,\n",
    "and $\\theta$ be the angle between $a$ and $b$, the following equality holds:\n",
    "\n",
    "$\\cos \\theta = \\frac{\\sum_{i=1}^n a_i b_i}{\\sqrt{\\sum_{i=1}^{n} a_i^2} \\sqrt{\\sum_{i=1}^n b_i^2}}$."
   ]
  },
  {
   "cell_type": "code",
   "execution_count": 7,
   "metadata": {},
   "outputs": [],
   "source": [
    "##########################################################\n",
    "##  <[ pre5-2-cos_sim ]> 解答セル (Answer cell)\n",
    "##  このコメントの書き変えを禁ず (Never edit this comment)\n",
    "##########################################################\n",
    "\n",
    "import numpy as np\n",
    "\n",
    "def cos_sim(x, y):\n",
    "    nume = np.dot(x, y)\n",
    "    deno = np.sqrt(np.dot(x, x)) * np.sqrt(np.dot(y, y))\n",
    "    return nume / deno"
   ]
  },
  {
   "cell_type": "markdown",
   "metadata": {},
   "source": [
    "提出前に以下のテストセルを実行し、 `True` のみが出力されることを確認してください。"
   ]
  },
  {
   "cell_type": "markdown",
   "metadata": {},
   "source": [
    "Before submission, execute the following test cell and check if only `True` is printed."
   ]
  },
  {
   "cell_type": "code",
   "execution_count": 8,
   "metadata": {},
   "outputs": [
    {
     "name": "stdout",
     "output_type": "stream",
     "text": [
      "True\n",
      "True\n",
      "True\n",
      "True\n",
      "True\n"
     ]
    }
   ],
   "source": [
    "import scipy.spatial.distance\n",
    "\n",
    "# テストケース生成\n",
    "def gen_testcase(n):\n",
    "    x = np.random.rand(n)\n",
    "    y = np.random.rand(n)\n",
    "    ans = 1 - scipy.spatial.distance.cosine(x,y)\n",
    "    return (x, y, ans)\n",
    "\n",
    "# テストケース実行\n",
    "for i in range(5):\n",
    "    x, y, ans = gen_testcase(10**i)\n",
    "    print(abs(ans - cos_sim(x,y)) < 1e-10)"
   ]
  },
  {
   "cell_type": "code",
   "execution_count": null,
   "metadata": {},
   "outputs": [],
   "source": []
  }
 ],
 "metadata": {
  "kernelspec": {
   "display_name": "Python 3",
   "language": "python",
   "name": "python3"
  },
  "language_info": {
   "codemirror_mode": {
    "name": "ipython",
    "version": 3
   },
   "file_extension": ".py",
   "mimetype": "text/x-python",
   "name": "python",
   "nbconvert_exporter": "python",
   "pygments_lexer": "ipython3",
   "version": "3.7.3"
  },
  "lecture_term": "2019A1"
 },
 "nbformat": 4,
 "nbformat_minor": 4
}
