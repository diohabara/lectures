{
 "cells": [
  {
   "cell_type": "markdown",
   "metadata": {},
   "source": [
    "# 第5回本課題 / Exercises 5"
   ]
  },
  {
   "cell_type": "markdown",
   "metadata": {},
   "source": [
    "## Ex5-1. スクリプトファイル作成\n",
    "\n",
    "予習課題で定義した `cos_sim()` を呼び出して、\n",
    "与えられたファイルに格納された配列のコサイン類似度を印字するスクリプトファイル `cos_sim.py` を\n",
    "作成してください。\n",
    "\n",
    "例えば、\n",
    "```console\n",
    ">>> python cos_sim.py x.txt y.txt\n",
    "```\n",
    "というコマンドが実行されると、`x.txt` と `y.txt` というファイルに保存された配列のコサイン類似度が印字されます。\n",
    "\n",
    "配列の保存には `numpy.savetxt()` 関数が用いられたと仮定してください。"
   ]
  },
  {
   "cell_type": "markdown",
   "metadata": {},
   "source": [
    "## Ex5-1. Creating a script file\n",
    "\n",
    "Define a script file `cos_sim.py`, which prints the cosine similarity between the arrays stored in given files,\n",
    "by calling the function `cos_sim()` defined in the pre-exercise.\n",
    "\n",
    "For example, when the following command is executed,\n",
    "```console\n",
    ">>> python cos_sim.py x.txt y.txt\n",
    "```\n",
    "the cosine similarity between the arrays stored in the files `x.txt` and `y.txt` should be printed.\n",
    "\n",
    "You can assume that the function `numpy.savetxt()` was used to save the arrays."
   ]
  },
  {
   "cell_type": "markdown",
   "metadata": {},
   "source": [
    "### 注意\n",
    "\n",
    "Pythonのバージョンが3.7以上である場合、\n",
    "解答を記述したcos_sim.pyをex5.ipynbと同じフォルダ内に保存して、\n",
    "ファイルを提出する前に以下のテストセルを実行し、`True` のみが出力されることを確認してください。\n",
    "\n",
    "Pythonのバージョンが3.7未満である場合も、以下のテストセルを一度は実行してください。\n",
    "テスト用のデータファイルが生成されます。\n",
    "その後、以下の`==>`より左のコマンドを実行してください。\n",
    "`==>`より右の出力が得られるはずです。\n",
    "```\n",
    ">>> python cos_sim.py g0.x.txt g0.y.txt      ==> 1.0  \n",
    ">>> python cos_sim.py g1.x.txt g1.y.txt      ==> 0.6039839701191976\n",
    ">>> python cos_sim.py g2.x.txt g2.y.txt      ==> 0.732688460849421\n",
    ">>> python cos_sim.py g3.x.txt g3.y.txt      ==> 0.7460669042017208\n",
    ">>> python cos_sim.py g4.x.txt g4.y.txt      ==> 0.7501021767951547\n",
    "```\n",
    "\n",
    "Pythonのバージョンを確認するには、Jupyter Notebookでは、以下をコードを実行してください。\n",
    "```Python\n",
    "import sys\n",
    "sys.version\n",
    "```\n",
    "もしくは、以下のコマンドを実行してください。\n",
    "```\n",
    ">>> python --version\n",
    "```"
   ]
  },
  {
   "cell_type": "markdown",
   "metadata": {},
   "source": [
    "### Attention\n",
    "\n",
    "If the version of Python is higher than or equal to 3.7,\n",
    "put the file, cos_sim.py, which contains the answer, in the same directory as that of ex5.ipynb,\n",
    "and execute the following test cell and check if `True` is only printed, before you submit the file.\n",
    "\n",
    "Even if the version of Python is lower than 3.7, execute the following test cell at least once.\n",
    "Data files for testing will be generated.\n",
    "Then execute the following commands to the left of `==>`.\n",
    "Outputs to the right of `==>` should be obtained.\n",
    "```\n",
    ">>> python cos_sim.py g0.x.txt g0.y.txt      ==> 1.0  \n",
    ">>> python cos_sim.py g1.x.txt g1.y.txt      ==> 0.6039839701191976\n",
    ">>> python cos_sim.py g2.x.txt g2.y.txt      ==> 0.732688460849421\n",
    ">>> python cos_sim.py g3.x.txt g3.y.txt      ==> 0.7460669042017208\n",
    ">>> python cos_sim.py g4.x.txt g4.y.txt      ==> 0.7501021767951547\n",
    "```\n",
    "\n",
    "To check the version of Python, execute the following code under Jupyter Notebooks.\n",
    "```Python\n",
    "import sys\n",
    "sys.version\n",
    "```\n",
    "Or execute the following command.\n",
    "```\n",
    ">>> python --version\n",
    "```"
   ]
  },
  {
   "cell_type": "code",
   "execution_count": 16,
   "metadata": {},
   "outputs": [],
   "source": [
    "##########################################################\n",
    "##  <[ ex5-1-cos_sim.py ]> 解答セル (Answer cell)\n",
    "##  このコメントの書き変えを禁ず (Never edit this comment)\n",
    "##########################################################\n",
    "\n",
    "## 注意：この課題では cos_sym.py を作り、そこに解答を記述し、これを提出してください。\n",
    "## NOTE: In this exercise, you must create, write and submit cos_sym.py."
   ]
  },
  {
   "cell_type": "markdown",
   "metadata": {},
   "source": [
    "提出前に以下のテストセルを実行し、 `True` のみが出力されることを確認してください。"
   ]
  },
  {
   "cell_type": "markdown",
   "metadata": {},
   "source": [
    "Before submission, execute the following test cell and check if only `True` is printed."
   ]
  },
  {
   "cell_type": "code",
   "execution_count": 18,
   "metadata": {},
   "outputs": [
    {
     "name": "stdout",
     "output_type": "stream",
     "text": [
      "Execute the command: python cos_sim.py g0.x.txt g0.y.txt\n",
      "  Its result should be 1.0\n",
      "Execute the command: python cos_sim.py g1.x.txt g1.y.txt\n",
      "  Its result should be 0.6039839701191976\n",
      "Execute the command: python cos_sim.py g2.x.txt g2.y.txt\n",
      "  Its result should be 0.732688460849421\n",
      "Execute the command: python cos_sim.py g3.x.txt g3.y.txt\n",
      "  Its result should be 0.7460669042017208\n",
      "Execute the command: python cos_sim.py g4.x.txt g4.y.txt\n",
      "  Its result should be 0.7501021767951547\n"
     ]
    }
   ],
   "source": [
    "def tester():\n",
    "    def gen_testinput(basename, n):\n",
    "        import numpy as np\n",
    "        np.random.seed(n)\n",
    "        x, y = np.random.rand(n), np.random.rand(n)\n",
    "        np.savetxt(f'{basename}.x.txt', x)\n",
    "        np.savetxt(f'{basename}.y.txt', y)\n",
    "        return basename, x, y\n",
    "    test_inputs = tuple(gen_testinput(f'g{i}', 10**i) for i in range(5))\n",
    "\n",
    "    PYTHON_COMMAND = 'python'  # 'python3'\n",
    "    TEST_ANSWERS = (1.0, 0.6039839701191976, 0.732688460849421, 0.7460669042017208, 0.7501021767951547)\n",
    "\n",
    "    import sys\n",
    "    \n",
    "    if (sys.version_info.major,sys.version_info.minor,sys.version_info.micro) >= (3,7,0):\n",
    "        import subprocess\n",
    "        cmdout = subprocess.run([PYTHON_COMMAND, '-V'], capture_output=True, encoding='utf_8')\n",
    "        if not cmdout.stdout.startswith('Python 3.'):\n",
    "            print('False: Python 2 is called by `python` command in your environment. Please change the value of PYTHON_COMMAND to `python3`.')\n",
    "            return\n",
    "\n",
    "        for i, (basename, x, y) in enumerate(test_inputs):\n",
    "            ans_cos_sim = TEST_ANSWERS[i]\n",
    "            cmdout = subprocess.run([PYTHON_COMMAND, 'cos_sim.py', f'{basename}.x.txt', f'{basename}.y.txt'], capture_output=True)\n",
    "            print(abs(ans_cos_sim - float(cmdout.stdout)) < 1e-7, f'test{i}: cos_sim(command)')\n",
    "    else:\n",
    "        for i, (basename, x, y) in enumerate(test_inputs):\n",
    "            ans_cos_sim = TEST_ANSWERS[i]\n",
    "            print('Execute the command:', 'python cos_sim.py', f'{basename}.x.txt', f'{basename}.y.txt')\n",
    "            print('  Its result should be', ans_cos_sim)\n",
    "\n",
    "tester()"
   ]
  },
  {
   "cell_type": "code",
   "execution_count": null,
   "metadata": {},
   "outputs": [],
   "source": []
  }
 ],
 "metadata": {
  "kernelspec": {
   "display_name": "Python 3",
   "language": "python",
   "name": "python3"
  },
  "language_info": {
   "codemirror_mode": {
    "name": "ipython",
    "version": 3
   },
   "file_extension": ".py",
   "mimetype": "text/x-python",
   "name": "python",
   "nbconvert_exporter": "python",
   "pygments_lexer": "ipython3",
   "version": "3.7.3"
  },
  "lecture_term": "2019A1"
 },
 "nbformat": 4,
 "nbformat_minor": 4
}
