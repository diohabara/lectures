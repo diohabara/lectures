{
 "cells": [
  {
   "cell_type": "markdown",
   "metadata": {},
   "source": [
    "# 第1回予習課題 / Preparations 1"
   ]
  },
  {
   "cell_type": "markdown",
   "metadata": {},
   "source": [
    "## Pre1-1. フェルマー数\n",
    "フェルマー数は、$2^{2^{n}}+1$（$n$は非負の整数）で表される自然数です。$n$番目のフェルマー数を$F_n$とすると、フェルマー数は以下のように計算できます。\n",
    "\n",
    "$F_0=2^1+1=3$\n",
    "\n",
    "$F_1=2^2+1=5$\n",
    "\n",
    "$...$\n",
    "\n",
    "$n$を引数で受け取り、 $F_n$の値を返す`fermat_number(n)`という関数を定義してください。以下のセルの `...` のところを書き換えてください。"
   ]
  },
  {
   "cell_type": "markdown",
   "metadata": {},
   "source": [
    "## Pre1-1. Fermat number\n",
    "A Fermat number is a positive integer of the form\n",
    "\n",
    "$F_{n}=2^{2^{n}}+1$,\n",
    "\n",
    "where $n$ is a nonnegative integer.\n",
    "\n",
    "Define a function `fermat_number(n)` which takes $n$ as an argument and returns the value $F_n$."
   ]
  },
  {
   "cell_type": "code",
   "execution_count": 5,
   "metadata": {},
   "outputs": [],
   "source": [
    "##########################################################\n",
    "##  <[ pre1-1-fermat_number ]> 解答セル (Answer cell)\n",
    "##  このコメントの書き変えを禁ず (Never edit this comment)\n",
    "##########################################################\n",
    "\n",
    "def fermat_number(n):\n",
    "    return 2**(2**n) + 1"
   ]
  },
  {
   "cell_type": "markdown",
   "metadata": {},
   "source": [
    "提出前に以下のテストセルを実行し、 `True` のみが出力されることを確認してください。"
   ]
  },
  {
   "cell_type": "markdown",
   "metadata": {},
   "source": [
    "Before submission, execute the following test cell and check if only `True` is printed."
   ]
  },
  {
   "cell_type": "code",
   "execution_count": 6,
   "metadata": {},
   "outputs": [
    {
     "name": "stdout",
     "output_type": "stream",
     "text": [
      "True\n",
      "True\n",
      "True\n",
      "True\n",
      "True\n"
     ]
    }
   ],
   "source": [
    "print(fermat_number(1) == 5)\n",
    "print(fermat_number(2) == 17)\n",
    "print(fermat_number(3) == 257)\n",
    "print(fermat_number(4) == 65537)\n",
    "print(fermat_number(5) == 4294967297)"
   ]
  },
  {
   "cell_type": "markdown",
   "metadata": {},
   "source": [
    "## Pre1-2. 三角形の成立条件\n",
    "3つの正数$a$, $b$, $c$を3辺の長さとする三角形が存在するための必要十分条件は以下の不等式で表されます。\n",
    "\n",
    "$a<b+c$かつ$b<c+a$かつ$c<a+b$\n",
    "\n",
    "3辺の長さ `a`, `b`, `c` をもらって、3辺が三角形を構成するならば `True`、そうでなければ `False` を返す `is_triangle(a,b,c)` という関数を定義してください。\n",
    "\n",
    "以下のセルの `...` のところを書き換えてください。"
   ]
  },
  {
   "cell_type": "markdown",
   "metadata": {},
   "source": [
    "## Pre1-2. Triangle inequality\n",
    "The triangle inequality states that the sum of the lengths of any two sides of a triangle with three positive side lengths must be greater than the length of the third side. \n",
    "\n",
    "$a<b+c$, $b<c+a$, $c<a+b$.\n",
    "\n",
    "A triangle with three given positive side lengths exists if and only if its side lengths satisfy the triangle inequality.\n",
    "\n",
    "Define a function `is_triangle(a,b,c)` which returns `True` if three positive side lengths $a$, $b$, $c$ satisfy the triangle inequality. Otherwise the function should return `False`."
   ]
  },
  {
   "cell_type": "code",
   "execution_count": 7,
   "metadata": {},
   "outputs": [],
   "source": [
    "##########################################################\n",
    "##  <[ pre1-2-is_triangle ]> 解答セル (Answer cell)\n",
    "##  このコメントの書き変えを禁ず (Never edit this comment)\n",
    "##########################################################\n",
    "\n",
    "def is_triangle(a, b, c):\n",
    "    return a < b+c and b < c+a and c < a+b"
   ]
  },
  {
   "cell_type": "markdown",
   "metadata": {},
   "source": [
    "提出前に以下のテストセルを実行し、 `True` のみが出力されることを確認してください。"
   ]
  },
  {
   "cell_type": "markdown",
   "metadata": {},
   "source": [
    "Before submission, execute the following test cell and check if only `True` is printed."
   ]
  },
  {
   "cell_type": "code",
   "execution_count": 8,
   "metadata": {},
   "outputs": [
    {
     "name": "stdout",
     "output_type": "stream",
     "text": [
      "True\n",
      "True\n",
      "True\n",
      "True\n"
     ]
    }
   ],
   "source": [
    "print(is_triangle(3,3,3) == True)\n",
    "print(is_triangle(3,4,5) == True)\n",
    "print(is_triangle(1,2,3) == False)\n",
    "print(is_triangle(1,1,2) == False)"
   ]
  },
  {
   "cell_type": "code",
   "execution_count": null,
   "metadata": {},
   "outputs": [],
   "source": []
  }
 ],
 "metadata": {
  "kernelspec": {
   "display_name": "Python 3",
   "language": "python",
   "name": "python3"
  },
  "language_info": {
   "codemirror_mode": {
    "name": "ipython",
    "version": 3
   },
   "file_extension": ".py",
   "mimetype": "text/x-python",
   "name": "python",
   "nbconvert_exporter": "python",
   "pygments_lexer": "ipython3",
   "version": "3.6.8"
  },
  "lecture_term": "2019A1"
 },
 "nbformat": 4,
 "nbformat_minor": 2
}
