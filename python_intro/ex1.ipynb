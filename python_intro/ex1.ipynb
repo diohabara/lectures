{
 "cells": [
  {
   "cell_type": "markdown",
   "metadata": {},
   "source": [
    "# 第1回本課題 / Exercises 1"
   ]
  },
  {
   "cell_type": "markdown",
   "metadata": {},
   "source": [
    "## Ex1-1. 三角形の分類\n",
    "\n",
    "三角形の三辺の長さとなるべき非負の整数 `a`, `b`, `c` を受け取り、\n",
    "* 三辺が三角形を構成しないならば 0\n",
    "* 三辺が構成する三角形が鋭角三角形ならば1\n",
    "* 三辺が構成する三角形が直角三角形ならば2\n",
    "* 三辺が構成する三角形が鈍角三角形ならば3\n",
    "\n",
    "を返す関数 `classify_triangle(a, b, c)` を定義してください。"
   ]
  },
  {
   "cell_type": "markdown",
   "metadata": {},
   "source": [
    "## Ex1-1. Classifying a triangle.\n",
    "\n",
    "Define a function `triangle(a,b,c)`, which takes three positive side lengths $a$, $b$, $c$ of a triangle as arguments, and returns the following values:\n",
    "* 0 if the three side lengths do not satisfy the triangle inequality,\n",
    "* 1 if the three side lengths form an acute triangle,\n",
    "* 2 if the three side lengths form a right triangle,\n",
    "* 3 if the three side lengths form an obtuse triangle.\n",
    "\n",
    "Complete the definition of `classify_triangle(a, b, c)` by filling the `...` part of the following code cell."
   ]
  },
  {
   "cell_type": "code",
   "execution_count": 12,
   "metadata": {},
   "outputs": [],
   "source": [
    "##########################################################\n",
    "##  <[ ex1-1-classify_triangle ]> 解答セル (Answer cell)\n",
    "##  このコメントの書き変えを禁ず (Never edit this comment)\n",
    "##########################################################\n",
    "\n",
    "def is_triangle(a, b, c):\n",
    "    return a < b+c and b < c+a and c < a+b\n",
    "\n",
    "def classify_triangle(a, b, c):\n",
    "    if b > a > c or b > c > a:\n",
    "        return classify_triangle(b, a, c)\n",
    "    if c > a > b or c > b > a:\n",
    "        return classify_triangle(c, a, b)\n",
    "    \n",
    "    if not is_triangle(a, b, c):\n",
    "        return 0\n",
    "    else:\n",
    "        if a**2 < b**2 + c**2:\n",
    "            return 1\n",
    "        elif a**2 == b**2 + c**2:\n",
    "            return 2\n",
    "        else:\n",
    "            return 3"
   ]
  },
  {
   "cell_type": "markdown",
   "metadata": {},
   "source": [
    "提出前に以下のテストセルを実行し、 `True` のみが出力されることを確認してください。"
   ]
  },
  {
   "cell_type": "markdown",
   "metadata": {},
   "source": [
    "Before submission, execute the following test cell and check if only `True` is printed."
   ]
  },
  {
   "cell_type": "code",
   "execution_count": 13,
   "metadata": {},
   "outputs": [
    {
     "name": "stdout",
     "output_type": "stream",
     "text": [
      "True\n",
      "True\n",
      "True\n",
      "True\n",
      "True\n",
      "True\n"
     ]
    }
   ],
   "source": [
    "print(classify_triangle(3,6,5) == 3)\n",
    "print(classify_triangle(3,4,5) == 2)\n",
    "print(classify_triangle(4,3,3) == 1)\n",
    "print(classify_triangle(1,1,3) == 0)\n",
    "print(classify_triangle(1,2,1) == 0)\n",
    "print(classify_triangle(3,2,1) == 0)"
   ]
  },
  {
   "cell_type": "code",
   "execution_count": null,
   "metadata": {},
   "outputs": [],
   "source": []
  }
 ],
 "metadata": {
  "kernelspec": {
   "display_name": "Python 3",
   "language": "python",
   "name": "python3"
  },
  "language_info": {
   "codemirror_mode": {
    "name": "ipython",
    "version": 3
   },
   "file_extension": ".py",
   "mimetype": "text/x-python",
   "name": "python",
   "nbconvert_exporter": "python",
   "pygments_lexer": "ipython3",
   "version": "3.6.8"
  },
  "lecture_term": "2019A1"
 },
 "nbformat": 4,
 "nbformat_minor": 4
}
