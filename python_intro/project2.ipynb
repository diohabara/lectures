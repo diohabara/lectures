{
 "cells": [
  {
   "cell_type": "markdown",
   "metadata": {},
   "source": [
    "# ミニプロジェクト / Miniproject"
   ]
  },
  {
   "cell_type": "markdown",
   "metadata": {},
   "source": [
    "## ミニプロジェクト --- 太宰治か宮沢賢治か？著者を推定してみよう（発展課題）\n",
    "\n",
    "基礎課題では、既に著者（太宰治か宮沢賢治）がわかっている小説を用いて、未知の著者の小説を誰が書いたかを推測しました。\n",
    "\n",
    "この課題では、239の小説を、著者の情報を用いずに本文だけを用いて、二つのグループ（クラスタ）、可能ならばそれが太宰治と宮沢賢治になるように、分類してください。\n",
    "\n",
    "239の小説を記録する表データは`novels.csv`というファイルに格納されています。\n",
    "この表データは、`DataFrame`オブジェクトとして、以下のように大域変数`novels`に代入することができます。\n",
    "```Python\n",
    "import pandas as pd\n",
    "novels = pd.read_csv('novels.csv', encoding='utf-8')\n",
    "```\n",
    "\n",
    "たとえば、7-2で学んだk-means法 `KMeans` を用いることができます。\n",
    "そのためには、各小説に対して、何らかの特徴量を定義しなければなりません。\n",
    "いくつかのn-gramの出現確率を用いることができるでしょう。\n",
    "* たとえば、bi-gramやtri-gramのうち、出現回数が多いものを200個程度選びます。\n",
    "* 各小説に対して、それぞれのn-gramの出現回数を小説の長さで割って特徴量とします。\n",
    "* `KMeans` を呼び出すときには、クラスタ数を2ではなく、3以上にするとうまく行くかもしれません。\n",
    "* `n_init=100` などと指定して `n_init` を増やすと結果が安定します（デフォールトは10）。\n",
    "\n",
    "用いたクラスタリングの方法と書いたプログラム、および、クラスタリングの結果を報告してください。\n",
    "もちろん、完全に正しいクラスタを得ることは非常に難しいです。\n",
    "自分なりに試したこととその結果（悪くても構いません）を報告ください。"
   ]
  },
  {
   "cell_type": "markdown",
   "metadata": {},
   "source": [
    "## Miniproject --- Guessing the author of a novel, 太宰治 and 宮沢賢治? (Advanced exercise)\n",
    "\n",
    "In the basic exercises, you have guessed the authors of unknown novels by using the datasets of known novels (written by 太宰治 or 宮沢賢治),\n",
    "\n",
    "In this exercise, let's classify 239 novels into two groups (clusters), hopefully, 太宰治 and 宮沢賢治, only by using the texts of the novels.\n",
    "\n",
    "A table of the 239 novels is stored in the file `novels.csv`.\n",
    "The table can be loaded as a `DataFrame` object and assigned to a global variable `novels` in the following manner.\n",
    "```Python\n",
    "import pandas as pd\n",
    "novels = pd.read_csv('novels.csv', encoding='utf-8')\n",
    "```\n",
    "\n",
    "For example, the k-means method `KMeans` explained in 7-2 can be used.\n",
    "For using `KMeans`, you should define some features for each novel.\n",
    "The probabilities of some n-grams can be used.\n",
    "* For example, choose about 200 bi-grams or tri-grams which are highly ranked with respect to the number of occurrences.\n",
    "* For each novel, define a feature as the number of occurrences of an n-gram divided by the length of the novel.\n",
    "* When calling `KMeans`, the number of clusters need not be 2. Specifying 3 or more clusters may produce a good result.\n",
    "* If you increase `n_init` as in `n_init=100` (its default is 10), the result will be more stable.\n",
    "\n",
    "Report the method for clustering you use, the program you write, and the result of clustering.\n",
    "Of course, to obtain completely correct clusters is very difficult.\n",
    "Report what you try and the result, which may be not so good."
   ]
  },
  {
   "cell_type": "code",
   "execution_count": 1,
   "metadata": {},
   "outputs": [],
   "source": [
    "import pandas as pd\n",
    "novels = pd.read_csv(\"novels.csv\", encoding=\"utf-8\")"
   ]
  },
  {
   "cell_type": "code",
   "execution_count": null,
   "metadata": {},
   "outputs": [],
   "source": []
  }
 ],
 "metadata": {
  "kernelspec": {
   "display_name": "Python 3",
   "language": "python",
   "name": "python3"
  },
  "language_info": {
   "codemirror_mode": {
    "name": "ipython",
    "version": 3
   },
   "file_extension": ".py",
   "mimetype": "text/x-python",
   "name": "python",
   "nbconvert_exporter": "python",
   "pygments_lexer": "ipython3",
   "version": "3.7.3"
  }
 },
 "nbformat": 4,
 "nbformat_minor": 2
}
