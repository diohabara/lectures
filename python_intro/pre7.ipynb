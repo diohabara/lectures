{
 "cells": [
  {
   "cell_type": "markdown",
   "metadata": {},
   "source": [
    "# 第7回予習課題 / Preparations 7"
   ]
  },
  {
   "cell_type": "markdown",
   "metadata": {},
   "source": [
    "## Pre7-1. pandasライブラリ\n",
    "\n",
    "CSVファイル `'iris.csv'` を `pandas` モジュールのデータフレームオブジェクト (`pandas.DataFrame`) としてロードし、`'species'` 列の値が引数 `species` (値は `'setosa'`, `'virginica'`, `'versicolor'` のいずれか) である行を抽出した上で、それらの行から `'sepal_length'` 列の最大値を返す以下の `max_sepal_length` 関数を完成させてください。最大値の計算には `DataFrame` オブジェクトの`max()`メソッドを使ってもよいです。"
   ]
  },
  {
   "cell_type": "markdown",
   "metadata": {},
   "source": [
    "## Pre7-1. pandas library\n",
    "\n",
    "Define the following `'max_sepal_length'` function which firstly loads a CSV file, `'iris.csv'`, as a DataFrame of pandas, extracts rows whose `'species'` column has a value equal to the name of species specified by the `species` argument (one of `'setosa'`, `'virginica'`, `'versicolor'`), and finally returns the maximum value of the `'sepal_length'` column from those rows. You may use the `max ()` method of the `DataFrame` object to calculate the maximum value."
   ]
  },
  {
   "cell_type": "code",
   "execution_count": 82,
   "metadata": {},
   "outputs": [],
   "source": [
    "##########################################################\n",
    "##  <[ pre7-1-max_sepal_length ]> 解答セル (Answer cell)\n",
    "##  このコメントの書き変えを禁ず (Never edit this comment)\n",
    "##########################################################\n",
    "\n",
    "import pandas as pd\n",
    "\n",
    "def max_sepal_length(species):\n",
    "    iris_d = pd.read_csv(\"iris.csv\")\n",
    "    d = iris_d[iris_d[\"species\"] == species]\n",
    "    return d[\"sepal_length\"].max()"
   ]
  },
  {
   "cell_type": "markdown",
   "metadata": {},
   "source": [
    "提出前に以下のテストセルを実行し、 `True` のみが出力されることを確認してください。"
   ]
  },
  {
   "cell_type": "markdown",
   "metadata": {},
   "source": [
    "Before submission, execute the following test cell and check if only `True` is printed."
   ]
  },
  {
   "cell_type": "code",
   "execution_count": 83,
   "metadata": {},
   "outputs": [
    {
     "name": "stdout",
     "output_type": "stream",
     "text": [
      "True\n",
      "True\n",
      "True\n"
     ]
    }
   ],
   "source": [
    "print(max_sepal_length('setosa')==5.8)\n",
    "print(max_sepal_length('versicolor')==7.0)\n",
    "print(max_sepal_length('virginica')==7.9)"
   ]
  },
  {
   "cell_type": "markdown",
   "metadata": {},
   "source": [
    "## Pre7-2. scikit-learnライブラリ\n",
    "\n",
    "CSVファイル `'iris.csv'` を `pandas` モジュールのデータフレームオブジェクトとしてロードし、2つの特徴量 (`sepal_length` と `sepal_width`) から2つの花の種類、versicolor か virginica のどちらかを予測するモデルをロジスティック回帰を用いて学習し、その予測精度（`accuracy_score`）を返す以下の `predict_iris` 関数を完成させてください。`predict_iris` 関数は `train_test_split` でデータを分割する際の `test_size` と `random_state` の値をそれぞれ `tsize` と `rstate` 引数で受け取ります。また、`train_test_split` では `stratify` にラベルデータを指定してください。"
   ]
  },
  {
   "cell_type": "markdown",
   "metadata": {},
   "source": [
    "## Pre7-2. scikit-learn library\n",
    "\n",
    "Define the following `predict_iris()` function. It loads a CSV file `'iris.csv'` as a DataFrame of pandas, and learns the model which predicts one of the two types of flowers (versicolor or virginica), based on the two features (`sepal_length` and `sepal_width`) using logistic regression. The function should return its prediction accuracy (`accuracy_score`), given the `tsize` and `rstate` arguments as the values of `test_size` and `random_state`, respectively, for dividing data by `train_test_split`. Please note to specify label data for `stratify` in `train_test_split`."
   ]
  },
  {
   "cell_type": "code",
   "execution_count": 84,
   "metadata": {},
   "outputs": [],
   "source": [
    "##########################################################\n",
    "##  <[ pre7-2-predict_iris ]> 解答セル (Answer cell)\n",
    "##  このコメントの書き変えを禁ず (Never edit this comment)\n",
    "##########################################################\n",
    "\n",
    "import pandas as pd\n",
    "from sklearn.linear_model import LogisticRegression\n",
    "from sklearn.model_selection import train_test_split\n",
    "from sklearn.metrics import accuracy_score\n",
    "\n",
    "def predict_iris(tsize, rstate):    \n",
    "    iris_d = pd.read_csv(\"iris.csv\")\n",
    "    iris2_d = iris_d[(iris_d[\"species\"] == \"versicolor\") | (iris_d[\"species\"] == \"virginica\")]\n",
    "    X_iris = iris2_d[[\"sepal_length\", \"sepal_width\"]] # 特徴量\n",
    "    y_iris = iris2_d[\"species\"] # ラベルデータ\n",
    "    X_train, X_test, y_train, y_test = train_test_split(X_iris, y_iris, test_size=tsize, random_state=rstate, stratify=y_iris)\n",
    "\n",
    "    model=LogisticRegression(solver=\"lbfgs\")\n",
    "    model.fit(X_train, y_train)\n",
    "    y_model=model.predict(X_test)\n",
    "    return accuracy_score(y_model, y_test)"
   ]
  },
  {
   "cell_type": "markdown",
   "metadata": {},
   "source": [
    "提出前に以下のテストセルを実行し、 `True` のみが出力されることを確認してください。"
   ]
  },
  {
   "cell_type": "markdown",
   "metadata": {},
   "source": [
    "Before submission, execute the following test cell and check if only `True` is printed."
   ]
  },
  {
   "cell_type": "code",
   "execution_count": 85,
   "metadata": {},
   "outputs": [
    {
     "name": "stdout",
     "output_type": "stream",
     "text": [
      "True\n"
     ]
    }
   ],
   "source": [
    "print(predict_iris(0.3, 10) == 0.7)"
   ]
  }
 ],
 "metadata": {
  "kernelspec": {
   "display_name": "Python 3",
   "language": "python",
   "name": "python3"
  },
  "language_info": {
   "codemirror_mode": {
    "name": "ipython",
    "version": 3
   },
   "file_extension": ".py",
   "mimetype": "text/x-python",
   "name": "python",
   "nbconvert_exporter": "python",
   "pygments_lexer": "ipython3",
   "version": "3.7.3"
  },
  "lecture_term": "2019A1"
 },
 "nbformat": 4,
 "nbformat_minor": 2
}
