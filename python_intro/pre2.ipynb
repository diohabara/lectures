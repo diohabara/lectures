{
 "cells": [
  {
   "cell_type": "markdown",
   "metadata": {},
   "source": [
    "# 第2回予習課題 / Preparations 2"
   ]
  },
  {
   "cell_type": "markdown",
   "metadata": {},
   "source": [
    "## Pre2-1. リストの抜き出し\n",
    "\n",
    "同じ値の要素を含まないリスト ln とそれに含まれる要素 x と y が与えられたとき、 ln の中で x と y の間に挟まれた要素から成るリストを返す関数 `between(ln, x, y)` を作成して下さい。ただし、返すリストに x と y は含めます。また、 ln の中で y が x よりも先に出現する場合にも対応して下さい。\n",
    "\n",
    "以下のセルの `...` のところを書き換えて `between(ln, x, y)` を作成して下さい。"
   ]
  },
  {
   "cell_type": "markdown",
   "metadata": {},
   "source": [
    "## Pre2-1. Extract from a list\n",
    "\n",
    "Define a function called `between(ln, x, y)`. In case of a list `ln` and its elements `x` and `y`  are given, `between(ln, x, y)` returns a list that consists of the list `ln` elements between `x` and `y`. Note that `x` and `y` must be included in the list returned.\n",
    "\n",
    "Complete `between(ln, x, y)` rewriting by `...` part in the cell bellow."
   ]
  },
  {
   "cell_type": "code",
   "execution_count": 18,
   "metadata": {},
   "outputs": [],
   "source": [
    "##########################################################\n",
    "##  <[ pre2-1-between ]> 解答セル (Answer cell)\n",
    "##  このコメントの書き変えを禁ず (Never edit this comment)\n",
    "##########################################################\n",
    "\n",
    "def between(ln, x, y):\n",
    "    start = ln.index(x)\n",
    "    end = ln.index(y)\n",
    "    if start < end:\n",
    "        return ln[start:end+1]\n",
    "    else:\n",
    "        return ln[end:start+1]"
   ]
  },
  {
   "cell_type": "markdown",
   "metadata": {},
   "source": [
    "提出前に以下のテストセルを実行し、 `True` のみが出力されることを確認してください。"
   ]
  },
  {
   "cell_type": "markdown",
   "metadata": {},
   "source": [
    "Before submission, execute the following test cell and check if only `True` is printed."
   ]
  },
  {
   "cell_type": "code",
   "execution_count": 19,
   "metadata": {},
   "outputs": [
    {
     "name": "stdout",
     "output_type": "stream",
     "text": [
      "True\n",
      "True\n"
     ]
    }
   ],
   "source": [
    "print(between([20, 10, 50, 30, 40], 10, 30) == [10, 50, 30])\n",
    "print(between(['a', 'b', 'c', 'd', 'e'], 'e', 'c') == ['c', 'd', 'e'])"
   ]
  },
  {
   "cell_type": "code",
   "execution_count": null,
   "metadata": {},
   "outputs": [],
   "source": []
  }
 ],
 "metadata": {
  "kernelspec": {
   "display_name": "Python 3",
   "language": "python",
   "name": "python3"
  },
  "language_info": {
   "codemirror_mode": {
    "name": "ipython",
    "version": 3
   },
   "file_extension": ".py",
   "mimetype": "text/x-python",
   "name": "python",
   "nbconvert_exporter": "python",
   "pygments_lexer": "ipython3",
   "version": "3.6.8"
  },
  "lecture_term": "2019A1"
 },
 "nbformat": 4,
 "nbformat_minor": 4
}
