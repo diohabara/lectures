{
 "cells": [
  {
   "cell_type": "markdown",
   "metadata": {},
   "source": [
    "# 第6回予習課題 / Preparations 6"
   ]
  },
  {
   "cell_type": "markdown",
   "metadata": {},
   "source": [
    "## Pre6-1. 文字ヒストグラムの構築\n",
    "\n",
    "ファイルオブジェクト（行単位のイテレータ）を取って、そのファイル中の文字のヒストグラムを返す関数`char_histogram()`を定義してください。\n",
    "ただし、ヒストグラムには、6-2で導入した`Counter`クラスを利用すること。"
   ]
  },
  {
   "cell_type": "markdown",
   "metadata": {},
   "source": [
    "## Pre6-1. Constructing character histograms\n",
    "\n",
    "Define a function `char_histogram()` that takes a file object (i.e., linewise iterator) and returns the character histogram with the proviso that you have to use the `Counter` class introduced in 6-2 for representing histograms."
   ]
  },
  {
   "cell_type": "code",
   "execution_count": 36,
   "metadata": {},
   "outputs": [],
   "source": [
    "##########################################################\n",
    "##  <[ pre6-1-char_histogram ]> 解答セル (Answer cell)\n",
    "##  このコメントの書き変えを禁ず (Never edit this comment)\n",
    "##########################################################\n",
    "\n",
    "class Counter(dict):\n",
    "    def __missing__(self, k):\n",
    "        return 0\n",
    "\n",
    "def char_histogram(f):\n",
    "    ans = Counter()\n",
    "    content = f.read()\n",
    "    for ch in content:\n",
    "        ans[ch] += 1\n",
    "    return ans"
   ]
  },
  {
   "cell_type": "markdown",
   "metadata": {},
   "source": [
    "提出前に以下のテストセルを実行し、 `True` のみが出力されることを確認してください。"
   ]
  },
  {
   "cell_type": "markdown",
   "metadata": {},
   "source": [
    "Before submission, execute the following test cell and check if only `True` is printed."
   ]
  },
  {
   "cell_type": "code",
   "execution_count": 37,
   "metadata": {},
   "outputs": [
    {
     "name": "stdout",
     "output_type": "stream",
     "text": [
      "True\n",
      "True\n"
     ]
    }
   ],
   "source": [
    "gambolputty = 'Johann Gambolputty de von Ausfern-schplenden-schlitter-crasscrenbon-fried-digger-dingle-dangle-dongle-dungle-burstein-von-knacker-thrasher-apple-banger-horowitz-ticolensic-grander-knotty-spelltinkle-grandlich-grumble-meyer-spelterwasser-kurstlich-himbleeisen-bahnwagen-gutenabend-bitte-ein-nürnburger-bratwustle-gerspurten-mitzweimache-luber-hundsfut-gumberaber-shönendanker-kalbsfleisch-mittler-aucher von Hautkopft of Ulm'\n",
    "jugemu = \"\"\"\n",
    "寿限無、寿限無、\n",
    "五劫の擦り切れ、\n",
    "海砂利水魚の、\n",
    "水行末・雲来末・風来末、\n",
    "食う寝る処に住む処、\n",
    "やぶら小路の藪柑子、\n",
    "パイポ・パイポ・パイポのシューリンガン、\n",
    "シューリンガンのグーリンダイ、\n",
    "グーリンダイのポンポコピーのポンポコナーの、\n",
    "長久命の長助\n",
    "\"\"\"\n",
    "print(gambolputty, file=open('gambolputty.txt', 'w', encoding='utf-8'))\n",
    "print(jugemu, file=open('jugemu.txt', 'w', encoding='utf-8'))\n",
    "\n",
    "with open('gambolputty.txt', encoding='utf-8') as f:\n",
    "    print(char_histogram(f) == {'J': 1, 'o': 13, 'h': 15, 'a': 21, 'n': 35, ' ': 8, 'G': 1, 'm': 9, 'b': 15, 'l': 23, 'p': 8, 'u': 16, 't': 25, 'y': 3, 'd': 13, 'e': 49, 'v': 3, 'A': 1, 's': 20, 'f': 6, 'r': 32, '-': 41, 'c': 12, 'i': 19, 'g': 15, 'k': 8, 'w': 5, 'z': 2, 'ü': 1, 'ö': 1, 'H': 1, 'U': 1, '\\n': 1})\n",
    "with open('jugemu.txt', encoding='utf-8') as f:\n",
    "    print(char_histogram(f) == {'\\n': 12, '寿': 2, '限': 2, '無': 2, '、': 10, '五': 1, '劫': 1, 'の': 9, '擦': 1, 'り': 1, '切': 1, 'れ': 1, '海': 1, '砂': 1, '利': 1, '水': 2, '魚': 1, '行': 1, '末': 3, '・': 4, '雲': 1, '来': 2, '風': 1, '食': 1, 'う': 1, '寝': 1, 'る': 1, '処': 2, 'に': 1, '住': 1, 'む': 1, 'や': 1, 'ぶ': 1, 'ら': 1, '小': 1, '路': 1, '藪': 1, '柑': 1, '子': 1, 'パ': 3, 'イ': 5, 'ポ': 7, 'シ': 2, 'ュ': 2, 'ー': 6, 'リ': 4, 'ン': 8, 'ガ': 2, 'グ': 2, 'ダ': 2, 'コ': 2, 'ピ': 1, 'ナ': 1, '長': 2, '久': 1, '命': 1, '助': 1})"
   ]
  },
  {
   "cell_type": "markdown",
   "metadata": {},
   "source": [
    "## Pre6-2. 最頻文字の選択\n",
    "\n",
    "文字ヒストグラムを取って、最頻文字を返す関数`most_frequent()`を定義してください。\n",
    "ただし、for文やwhile文などによる反復処理を用いずに、高階関数（`key`引数を取る`max()`など）を使って実装すること。\n",
    "\n",
    "ヒント: 辞書に対して`items`メソッドを呼び出すと、キーと値のタプルのリスト（正確には`dict_items`のインスタンス）が返ります。\n",
    "このリストの要素であるタプルのうち、値の部分が最大なものを選び、そのキーの部分を`...[0]`という式で取り出せばよいのです。"
   ]
  },
  {
   "cell_type": "markdown",
   "metadata": {},
   "source": [
    "## Pre6-2. Finding the most frequent character\n",
    "\n",
    "Define a function `most_frequent()` that takes a character histogram and returns the most frequent character with the proviso that iteration by for and while is prohibited and you have to use higher-order functions (e.g., `max()` with a `key` argument).\n",
    "\n",
    "Hint: By applying the `items` method to a dictionary, you will obtain a list of tuples, each consisting of a key and its corresponding value\n",
    "(to be more precise, not a list but an instance of `dict_items`).\n",
    "You can then choose the element of the list whose value part is the maximum, and extract its key part by `...[0]`."
   ]
  },
  {
   "cell_type": "code",
   "execution_count": 82,
   "metadata": {},
   "outputs": [],
   "source": [
    "##########################################################\n",
    "##  <[ pre6-2-most_frequent ]> 解答セル (Answer cell)\n",
    "##  このコメントの書き変えを禁ず (Never edit this comment)\n",
    "##########################################################\n",
    "\n",
    "def most_frequent(hist):\n",
    "    def get_biggest(hist):\n",
    "        return max(hist.items(), key=lambda l: l[1])\n",
    "    return get_biggest(hist)[0]"
   ]
  },
  {
   "cell_type": "markdown",
   "metadata": {},
   "source": [
    "提出前に以下のテストセルを実行し、 `True` のみが出力されることを確認してください。"
   ]
  },
  {
   "cell_type": "markdown",
   "metadata": {},
   "source": [
    "Before submission, execute the following test cell and check if only `True` is printed."
   ]
  },
  {
   "cell_type": "code",
   "execution_count": 83,
   "metadata": {},
   "outputs": [
    {
     "name": "stdout",
     "output_type": "stream",
     "text": [
      "True\n",
      "True\n"
     ]
    }
   ],
   "source": [
    "with open('gambolputty.txt', encoding='utf-8') as f:\n",
    "    print(most_frequent(char_histogram(f)) == 'e')\n",
    "with open('jugemu.txt', encoding='utf-8') as f:\n",
    "    print(most_frequent(char_histogram(f)) == '\\n')"
   ]
  },
  {
   "cell_type": "code",
   "execution_count": null,
   "metadata": {},
   "outputs": [],
   "source": []
  }
 ],
 "metadata": {
  "kernelspec": {
   "display_name": "Python 3",
   "language": "python",
   "name": "python3"
  },
  "language_info": {
   "codemirror_mode": {
    "name": "ipython",
    "version": 3
   },
   "file_extension": ".py",
   "mimetype": "text/x-python",
   "name": "python",
   "nbconvert_exporter": "python",
   "pygments_lexer": "ipython3",
   "version": "3.7.3"
  },
  "lecture_term": "2019A1"
 },
 "nbformat": 4,
 "nbformat_minor": 2
}
