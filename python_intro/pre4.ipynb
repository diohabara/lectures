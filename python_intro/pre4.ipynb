{
 "cells": [
  {
   "cell_type": "markdown",
   "metadata": {},
   "source": [
    "# 第4回予習課題 / Preparations 4"
   ]
  },
  {
   "cell_type": "markdown",
   "metadata": {},
   "source": [
    "## Pre4-1. 全角文字を含む文字列の書き出し\n",
    "\n",
    "ファイル名`filename`、文字コード`code`、文字列`text`が与えられると、`filename`という名前のファイルに文字コード`code`でテキスト`text`を書き込む関数`fwrite_text()`を、`print()`を使って定義してください。"
   ]
  },
  {
   "cell_type": "markdown",
   "metadata": {},
   "source": [
    "## Pre4-1. Reading and Writing Files with Multi-byte Characters\n",
    "\n",
    "Define a function `fwrite_text()` by using `print()` that writes a given text `text` in the file of a given name `filename` with a given encoding `code`."
   ]
  },
  {
   "cell_type": "code",
   "execution_count": 26,
   "metadata": {},
   "outputs": [],
   "source": [
    "##########################################################\n",
    "##  <[ pre4-1-fwrite_text ]> 解答セル (Answer cell)\n",
    "##  このコメントの書き変えを禁ず (Never edit this comment)\n",
    "##########################################################\n",
    "\n",
    "def fwrite_text(filename, code, text):\n",
    "    with open(filename, \"w\", encoding=code) as f:\n",
    "        print(text, file=f, end=\"\")"
   ]
  },
  {
   "cell_type": "markdown",
   "metadata": {},
   "source": [
    "提出前に以下のテストセルを実行し、 `True` のみが出力されることを確認してください。"
   ]
  },
  {
   "cell_type": "markdown",
   "metadata": {},
   "source": [
    "Before submission, execute the following test cell and check if only `True` is printed."
   ]
  },
  {
   "cell_type": "code",
   "execution_count": 27,
   "metadata": {},
   "outputs": [
    {
     "name": "stdout",
     "output_type": "stream",
     "text": [
      "True\n"
     ]
    }
   ],
   "source": [
    "filename = 'hiragana.txt'\n",
    "code = 'utf-8'\n",
    "text = 'あいうえお\\nかきくけこ\\nさしすせそ\\n'\n",
    "fwrite_text(filename, code, text)\n",
    "with open(filename, 'r', encoding=code) as f:\n",
    "    print(f.read() == text)"
   ]
  },
  {
   "cell_type": "markdown",
   "metadata": {},
   "source": [
    "## Pre4-2. ディレクトリ中のファイル読み込み\n",
    "\n",
    "このノートブックが置かれているディレクトリに`'text'`という名前のディレクトリがあります。ディレクトリ `'text'` の中にあるファイルの名前 `filename` とそのエンコーディング `code` を受け取り、そのファイルの文字数を返す関数 `text_file_len()` を定義してください。"
   ]
  },
  {
   "cell_type": "markdown",
   "metadata": {},
   "source": [
    "## Pre4-2. Reading a file in a directory\n",
    "\n",
    "There is a directory named `'text'` in the directory where this notebook is located.\n",
    "Define a funcion `text_file_len()` that is given the name `filename` of a file in the directory `'text'` and its encoding `code`,\n",
    "and returns the number of characters in the file."
   ]
  },
  {
   "cell_type": "code",
   "execution_count": 36,
   "metadata": {},
   "outputs": [],
   "source": [
    "##########################################################\n",
    "##  <[ pre4-2-text_file_len ]> 解答セル (Answer cell)\n",
    "##  このコメントの書き変えを禁ず (Never edit this comment)\n",
    "##########################################################\n",
    "\n",
    "def text_file_len(filename, code):\n",
    "    ans = 0\n",
    "    with open(\"./text/\" + filename, \"r\", encoding=code) as f:\n",
    "        for line in f:\n",
    "             ans += len(line)\n",
    "    return ans"
   ]
  },
  {
   "cell_type": "markdown",
   "metadata": {},
   "source": [
    "提出前に以下のテストセルを実行し、 `True` のみが出力されることを確認してください。"
   ]
  },
  {
   "cell_type": "markdown",
   "metadata": {},
   "source": [
    "Before submission, execute the following test cell and check if only `True` is printed."
   ]
  },
  {
   "cell_type": "code",
   "execution_count": 37,
   "metadata": {},
   "outputs": [
    {
     "name": "stdout",
     "output_type": "stream",
     "text": [
      "True\n",
      "True\n",
      "True\n"
     ]
    }
   ],
   "source": [
    "print(text_file_len('short.txt', 'utf-8') == 5)\n",
    "print(text_file_len('novel.txt', 'utf-8') == 234)\n",
    "print(text_file_len('preamble.md', 'euc-jp') == 663)"
   ]
  },
  {
   "cell_type": "code",
   "execution_count": null,
   "metadata": {},
   "outputs": [],
   "source": []
  }
 ],
 "metadata": {
  "kernelspec": {
   "display_name": "Python 3",
   "language": "python",
   "name": "python3"
  },
  "language_info": {
   "codemirror_mode": {
    "name": "ipython",
    "version": 3
   },
   "file_extension": ".py",
   "mimetype": "text/x-python",
   "name": "python",
   "nbconvert_exporter": "python",
   "pygments_lexer": "ipython3",
   "version": "3.6.8"
  },
  "lecture_term": "2019A1"
 },
 "nbformat": 4,
 "nbformat_minor": 4
}
