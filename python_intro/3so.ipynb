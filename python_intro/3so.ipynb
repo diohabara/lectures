{
 "cells": [
  {
   "cell_type": "code",
   "execution_count": 2,
   "metadata": {},
   "outputs": [],
   "source": [
    "# library\n",
    "import cmath\n",
    "import math\n",
    "import scipy\n",
    "import numpy as np"
   ]
  },
  {
   "cell_type": "code",
   "execution_count": 3,
   "metadata": {},
   "outputs": [],
   "source": [
    "y_mat = [[0.2 - 1j*19.84, -0.10 + 1j*10.00, -0.10 + 1j*10.00],\n",
    "        [-0.1 + 1j*10.10, 0.15 - 1j*14.74, -0.05 + 1j*5],\n",
    "        [-0.1 + 1j*10, -0.05 + 1j*5, 0.15 - 1j*13.76 ]]"
   ]
  },
  {
   "cell_type": "code",
   "execution_count": 4,
   "metadata": {},
   "outputs": [],
   "source": [
    "g = np.zeros((3, 3))\n",
    "b = np.zeros((3, 3))"
   ]
  },
  {
   "cell_type": "code",
   "execution_count": 5,
   "metadata": {},
   "outputs": [],
   "source": [
    "g = np.array([[y_mat[i][j].real for i in range(3)] for j in range(3)])\n",
    "b = np.array([[y_mat[i][j].imag for i in range(3)] for j in range(3)])"
   ]
  },
  {
   "cell_type": "code",
   "execution_count": 6,
   "metadata": {},
   "outputs": [],
   "source": [
    "jacob = np.zeros((6, 6))"
   ]
  },
  {
   "cell_type": "code",
   "execution_count": 7,
   "metadata": {},
   "outputs": [
    {
     "name": "stdout",
     "output_type": "stream",
     "text": [
      "(3, 3) (3, 3) (6, 6)\n",
      "[[1. 0. 0. 0. 0. 0.]\n",
      " [0. 1. 0. 0. 0. 0.]\n",
      " [0. 0. 0. 0. 0. 0.]\n",
      " [0. 0. 2. 0. 0. 0.]\n",
      " [0. 0. 0. 0. 0. 0.]\n",
      " [0. 0. 0. 0. 0. 0.]]\n"
     ]
    }
   ],
   "source": [
    "jacob[0][0] = jacob[1][1] = 1\n",
    "jacob[3][2] = 2\n",
    "print(g.shape, b.shape, jacob.shape)\n",
    "print(jacob)"
   ]
  },
  {
   "cell_type": "code",
   "execution_count": 8,
   "metadata": {},
   "outputs": [
    {
     "name": "stdout",
     "output_type": "stream",
     "text": [
      "[1.1 1.  1. ] [0 0 0]\n",
      "[[ 0.2  -0.1  -0.1 ]\n",
      " [-0.1   0.15 -0.05]\n",
      " [-0.1  -0.05  0.15]]\n",
      "[[-19.84  10.1   10.  ]\n",
      " [ 10.   -14.74   5.  ]\n",
      " [ 10.     5.   -13.76]]\n"
     ]
    }
   ],
   "source": [
    "x1 = np.array([1.1, 0, 1.0, 0, 1.0, 0])\n",
    "ys = np.array([0, 0, 2.5, 1.02, -4, -2])\n",
    "e = np.array([1.1, 1, 1])\n",
    "f = np.array([0, 0, 0])\n",
    "x = [e[i//2] if i % 2 else f[i//2] for i in range(6)]\n",
    "print(e, f)\n",
    "print(g)\n",
    "print(b)"
   ]
  },
  {
   "cell_type": "code",
   "execution_count": 10,
   "metadata": {},
   "outputs": [],
   "source": [
    "jacob[2][0] = g[1][0]*e[1] + b[1][0]*f[1]\n",
    "jacob[2][1] = -b[1][0]*e[1] + g[1][0]*f[1]\n",
    "jacob[2][2] = g[1][0]*e[0] - b[1][0]*f[0] + g[1][1]*e[1] - b[1][1]*f[1] + g[1][2]*e[2] - b[1][2]*f[2] + g[1][1]*e[1] + b[1][1]*f[1]\n",
    "jacob[2][3] = b[1][0]*e[1] + g[1][0]*f[0] + b[1][1]*e[1] + b[1][2]*e[2] + g[1][2]*f[2] - b[1][1]*e[1] + g[1][1]*f[1]\n",
    "jacob[2][4] = g[1][2]*e[1] + b[1][2]*f[1]\n",
    "jacob[2][5] = -b[1][2]*e[1] + g[1][2]*f[1]\n",
    "\n",
    "jacob[4][0] = g[2][0]*e[2] + b[2][0]*f[2]\n",
    "jacob[4][1] = -b[2][0]*e[2] + g[2][0]*f[2]\n",
    "jacob[4][2] = g[2][1]*e[2] + b[2][1]*f[2]\n",
    "jacob[4][3] = -b[2][1]*e[2] + g[2][1]*f[2]\n",
    "jacob[4][5] = b[2][0]*e[0] + g[2][0]*f[0] + b[2][1]*e[1] + g[2][1]*f[1] + b[2][2]*e[2] + g[2][2]*f[2]-b[2][2]*e[2] + g[2][2]*f[2]\n",
    "\n",
    "jacob[5][0] = -b[2][0]*e[2] + b[2][0]*f[2]\n",
    "jacob[5][1] = -g[2][0]*e[2] - b[2][0]*f[2]\n",
    "jacob[5][2] = b[2][1]*e[2] + g[2][1]*f[2]\n",
    "jacob[5][3] = -g[2][1]*e[2] - b[2][1]*f[2]\n",
    "jacob[5][4] = -(b[2][0]*e[0] + g[2][0]*f[0] + b[2][1]*e[1] + g[2][1]*f[1] + b[2][2]*e[2] + g[2][2]*f[2]) - b[2][2]*e[2] + g[2][2]*f[2]\n",
    "jacob[5][5] = g[2][0]*e[0] - b[2][0]*f[0] + g[2][1]*e[1] - b[2][1]*f[1] + g[2][2]*e[2] - b[2][2]*f[2] - g[2][2]*e[2] - b[2][2]*f[2]"
   ]
  },
  {
   "cell_type": "code",
   "execution_count": 11,
   "metadata": {},
   "outputs": [
    {
     "name": "stdout",
     "output_type": "stream",
     "text": [
      "[0, 1.1, 0, 1.0, 0, 1.0]\n",
      "[[  1.     0.     0.     0.     0.     0.  ]\n",
      " [  0.     1.     0.     0.     0.     0.  ]\n",
      " [ -0.1  -10.     0.14  15.    -0.05  -5.  ]\n",
      " [  0.     0.     2.     0.     0.     0.  ]\n",
      " [ -0.1  -10.    -0.05  -5.     0.    16.  ]\n",
      " [-10.     0.1    5.     0.05  11.52  -0.16]]\n"
     ]
    }
   ],
   "source": [
    "print(x)\n",
    "print(jacob)"
   ]
  },
  {
   "cell_type": "code",
   "execution_count": 12,
   "metadata": {},
   "outputs": [],
   "source": [
    "p = np.zeros(3)\n",
    "q = np.zeros(3)\n",
    "for i in range(p.shape[0]):\n",
    "    for t in range(e.shape[0]):\n",
    "        p[i] += e[i]*(g[i][t]*e[t] - b[i][t]*f[t]) + f[i]*(g[i][t]*f[t] + b[i][t]*e[t])\n",
    "        q[i] += -e[i]*(g[i][t]*e[t] + b[i][t]*e[t]) + f[i]*(g[i][t]*e[t] - b[i][t]*f[t])\n",
    "v = [e[i]**2 + f[i]**2 for i in range(3)]"
   ]
  },
  {
   "cell_type": "code",
   "execution_count": 13,
   "metadata": {},
   "outputs": [
    {
     "name": "stdout",
     "output_type": "stream",
     "text": [
      "[ 0.022 -0.01  -0.01 ]\n",
      "[ 1.8744 -1.25   -2.23  ]\n",
      "[1.2100000000000002, 1.0, 1.0]\n"
     ]
    }
   ],
   "source": [
    "print(p)\n",
    "print(q)\n",
    "print(v)"
   ]
  },
  {
   "cell_type": "code",
   "execution_count": 14,
   "metadata": {},
   "outputs": [],
   "source": [
    "v = [e[i]**2 + f[i]**2 for i in range(3)]\n",
    "y = np.zeros(6)"
   ]
  },
  {
   "cell_type": "code",
   "execution_count": 15,
   "metadata": {},
   "outputs": [],
   "source": [
    "y[2], y[3], y[4], y[5] = p[1], v[1]**2, p[2], q[2]"
   ]
  },
  {
   "cell_type": "code",
   "execution_count": 16,
   "metadata": {},
   "outputs": [
    {
     "name": "stdout",
     "output_type": "stream",
     "text": [
      "[ 0.    0.   -0.01  1.   -0.01 -2.23]\n"
     ]
    }
   ],
   "source": [
    "print(y)"
   ]
  },
  {
   "cell_type": "code",
   "execution_count": 19,
   "metadata": {},
   "outputs": [
    {
     "ename": "TypeError",
     "evalue": "'<' not supported between instances of 'builtin_function_or_method' and 'float'",
     "output_type": "error",
     "traceback": [
      "\u001b[0;31m---------------------------------------------------------------------------\u001b[0m",
      "\u001b[0;31mTypeError\u001b[0m                                 Traceback (most recent call last)",
      "\u001b[0;32m<ipython-input-19-48598f09d883>\u001b[0m in \u001b[0;36m<module>\u001b[0;34m\u001b[0m\n\u001b[1;32m      1\u001b[0m \u001b[0mx_d\u001b[0m \u001b[0;34m=\u001b[0m \u001b[0mnp\u001b[0m\u001b[0;34m.\u001b[0m\u001b[0mInf\u001b[0m\u001b[0;34m\u001b[0m\u001b[0;34m\u001b[0m\u001b[0m\n\u001b[0;32m----> 2\u001b[0;31m \u001b[0;32mwhile\u001b[0m \u001b[0;34m(\u001b[0m\u001b[0mnp\u001b[0m\u001b[0;34m.\u001b[0m\u001b[0mabs\u001b[0m\u001b[0;34m(\u001b[0m\u001b[0mx_d\u001b[0m\u001b[0;34m)\u001b[0m\u001b[0;34m.\u001b[0m\u001b[0mmax\u001b[0m \u001b[0;34m<\u001b[0m \u001b[0;36m1e-6\u001b[0m\u001b[0;34m)\u001b[0m\u001b[0;34m:\u001b[0m\u001b[0;34m\u001b[0m\u001b[0;34m\u001b[0m\u001b[0m\n\u001b[0m\u001b[1;32m      3\u001b[0m     \u001b[0my_d\u001b[0m \u001b[0;34m=\u001b[0m \u001b[0my\u001b[0m \u001b[0;34m-\u001b[0m \u001b[0mys\u001b[0m\u001b[0;34m\u001b[0m\u001b[0;34m\u001b[0m\u001b[0m\n\u001b[1;32m      4\u001b[0m     \u001b[0mj_inv\u001b[0m \u001b[0;34m=\u001b[0m \u001b[0mnp\u001b[0m\u001b[0;34m.\u001b[0m\u001b[0mlinalg\u001b[0m\u001b[0;34m.\u001b[0m\u001b[0minv\u001b[0m\u001b[0;34m(\u001b[0m\u001b[0mjacob\u001b[0m\u001b[0;34m)\u001b[0m\u001b[0;34m\u001b[0m\u001b[0;34m\u001b[0m\u001b[0m\n\u001b[1;32m      5\u001b[0m     \u001b[0mx_d\u001b[0m \u001b[0;34m=\u001b[0m \u001b[0mj_inv\u001b[0m\u001b[0;34m.\u001b[0m\u001b[0mdot\u001b[0m\u001b[0;34m(\u001b[0m\u001b[0my_d\u001b[0m\u001b[0;34m)\u001b[0m\u001b[0;34m\u001b[0m\u001b[0;34m\u001b[0m\u001b[0m\n",
      "\u001b[0;31mTypeError\u001b[0m: '<' not supported between instances of 'builtin_function_or_method' and 'float'"
     ]
    }
   ],
   "source": [
    "x_d = np.Inf\n",
    "while (np.abs(x_d).max < 1e-6):\n",
    "    y_d = y - ys\n",
    "    j_inv = np.linalg.inv(jacob)\n",
    "    x_d = j_inv.dot(y_d)\n",
    "    x -= x_d.T\n",
    "    \n",
    "    print(f\"jacob is \\n{jacob}\")\n",
    "    \n",
    "    # 再代入\n",
    "    e = np.zeros(3)\n",
    "    f = np.zeros(3)\n",
    "    p = np.zeros(3)\n",
    "    q = np.zeros(3)\n",
    "    for i in range(6):\n",
    "        if i % 2:\n",
    "            e[i//2] = x[i]\n",
    "        else:\n",
    "            f[i//2] = x[i]\n",
    "    for i in range(p.shape[0]):\n",
    "        for t in range(e.shape[0]):\n",
    "            p[i] += e[i]*(g[i][t]*e[t] - b[i][t]*f[t]) + f[i]*(g[i][t]*f[t] + b[i][t]*e[t])\n",
    "            q[i] += -e[i]*(g[i][t]*e[t] + b[i][t]*e[t]) + f[i]*(g[i][t]*e[t] - b[i][t]*f[t])\n",
    "    v = [e[i]**2 + f[i]**2 for i in range(3)]\n",
    "    y[2], y[3], y[4], y[5] = p[1], v[1]**2, p[2], q[2]\n",
    "    jacob = np.zeros((6, 6))\n",
    "    jacob[2][0] = g[1][0]*e[1] + b[1][0]*f[1]\n",
    "    jacob[2][1] = -b[1][0]*e[1] + g[1][0]*f[1]\n",
    "    jacob[2][2] = g[1][0]*e[0] - b[1][0]*f[0] + g[1][1]*e[1] - b[1][1]*f[1] + g[1][2]*e[2] - b[1][2]*f[2] + g[1][1]*e[1] + b[1][1]*f[1]\n",
    "    jacob[2][3] = b[1][0]*e[1] + g[1][0]*f[0] + b[1][1]*e[1] + b[1][2]*e[2] + g[1][2]*f[2] - b[1][1]*e[1] + g[1][1]*f[1]\n",
    "    jacob[2][4] = g[1][2]*e[1] + b[1][2]*f[1]\n",
    "    jacob[2][5] = -b[1][2]*e[1] + g[1][2]*f[1]\n",
    "\n",
    "    jacob[4][0] = g[2][0]*e[2] + b[2][0]*f[2]\n",
    "    jacob[4][1] = -b[2][0]*e[2] + g[2][0]*f[2]\n",
    "    jacob[4][2] = g[2][1]*e[2] + b[2][1]*f[2]\n",
    "    jacob[4][3] = -b[2][1]*e[2] + g[2][1]*f[2]\n",
    "    jacob[4][5] = b[2][0]*e[0] + g[2][0]*f[0] + b[2][1]*e[1] + g[2][1]*f[1] + b[2][2]*e[2] + g[2][2]*f[2]-b[2][2]*e[2] + g[2][2]*f[2]\n",
    "\n",
    "    jacob[5][0] = -b[2][0]*e[2] + b[2][0]*f[2]\n",
    "    jacob[5][1] = -g[2][0]*e[2] - b[2][0]*f[2]\n",
    "    jacob[5][2] = b[2][1]*e[2] + g[2][1]*f[2]\n",
    "    jacob[5][3] = -g[2][1]*e[2] - b[2][1]*f[2]\n",
    "    jacob[5][4] = -(b[2][0]*e[0] + g[2][0]*f[0] + b[2][1]*e[1] + g[2][1]*f[1] + b[2][2]*e[2] + g[2][2]*f[2]) - b[2][2]*e[2] + g[2][2]*f[2]\n",
    "    jacob[5][5] = g[2][0]*e[0] - b[2][0]*f[0] + g[2][1]*e[1] - b[2][1]*f[1] + g[2][2]*e[2] - b[2][2]*f[2] - g[2][2]*e[2] - b[2][2]*f[2]"
   ]
  },
  {
   "cell_type": "code",
   "execution_count": null,
   "metadata": {},
   "outputs": [],
   "source": [
    "print(x)\n",
    "print(y)\n",
    "print(ja)"
   ]
  },
  {
   "cell_type": "code",
   "execution_count": 18,
   "metadata": {},
   "outputs": [],
   "source": [
    "x = [i for i in range(1000)][1:1001]\n",
    "y = list(map(lambda x: 1/x, x))"
   ]
  },
  {
   "cell_type": "code",
   "execution_count": 28,
   "metadata": {},
   "outputs": [
    {
     "data": {
      "image/png": "[encoded data removed]",
      "text/plain": [
       "<Figure size 432x288 with 1 Axes>"
      ]
     },
     "metadata": {
      "needs_background": "light"
     },
     "output_type": "display_data"
    }
   ],
   "source": [
    "import matplotlib.pyplot as plt\n",
    "plt.scatter(x, y)\n",
    "plt.xlim(0, 1e-3)\n",
    "plt.savefig(\"inv.pdf\")"
   ]
  },
  {
   "cell_type": "code",
   "execution_count": null,
   "metadata": {},
   "outputs": [],
   "source": []
  }
 ],
 "metadata": {
  "kernelspec": {
   "display_name": "Python 3",
   "language": "python",
   "name": "python3"
  },
  "language_info": {
   "codemirror_mode": {
    "name": "ipython",
    "version": 3
   },
   "file_extension": ".py",
   "mimetype": "text/x-python",
   "name": "python",
   "nbconvert_exporter": "python",
   "pygments_lexer": "ipython3",
   "version": "3.7.3"
  }
 },
 "nbformat": 4,
 "nbformat_minor": 2
}
