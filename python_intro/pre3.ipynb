{
 "cells": [
  {
   "cell_type": "markdown",
   "metadata": {},
   "source": [
    "# 第3回予習課題 / Preparations 3"
   ]
  },
  {
   "cell_type": "markdown",
   "metadata": {},
   "source": [
    "## Pre3-1. 文字列から文字 $n$-gram を生成する\n",
    "\n",
    "### 文字 $n$-gram とは\n",
    "\n",
    "文字 $n$-gram とは、文字列の中の $n$ 個の文字のつながり（長さ $n$ の部分文字列）のことです。\n",
    "$n$-gram による解析では、文字列の頭から $n$-gram を順番にすべて抜き出します。\n",
    "$n$-gram は、$n = 1$ のとき uni-gram（ユニグラム）、\n",
    "$n = 2$ のとき bi-gram（バイグラム）、\n",
    "$n = 3$ のとき tri-gram（トライグラム）と呼ばれます。\n",
    "長さ $n$ は4以上のこともあり、ときに $n = 10$ なども使われます。 \n",
    "\n",
    "例えば、\n",
    "\n",
    "`'今日はいい天気ですね。'`\n",
    "\n",
    "という文字列があったときに、bi-gram は次のようになります。\n",
    "\n",
    "`'今日'`, `'日は'`, `'はい'`, `'いい'`, `'い天'`, '`天気'`, `'気で'`, `'です'`, `'すね'`, `'ね。'`\n",
    "\n",
    "tri-gram は次のようになります。\n",
    "\n",
    "`'今日は'`, `'日はい'`, `'はいい'`, `'いい天'`, `'い天気'`, '`天気で'`, `'天です'`, `'ですね'`, `'すね。'`\n",
    "\n",
    "uni-gram は1文字なので単に文字になります。\n",
    "\n",
    "`'今'`, `'日'`, `'は'`, `'い'`, `'い'`, '`天'`, `'気'`, `'で'`, `'す'`, `'ね'`, `'。'`"
   ]
  },
  {
   "cell_type": "markdown",
   "metadata": {},
   "source": [
    "## Pre3-1. Generating letter $n$-grams from a string\n",
    "\n",
    "### What is an $n$-gram?\n",
    "\n",
    "A letter $n$-gram is a contiguous sequence of $n$ letters in a string (i.e., a substring of length $n$).\n",
    "In $n$-gram analysis, all $n$-grams are extracted beginning at the head of a string.\n",
    "An $n$-gram is called a uni-gram if $n = 1$,\n",
    "a bi-gram if $n = 2$, and\n",
    "a tri-gram if $n = 3$.\n",
    "The length $n$ may be greater than or equal to 4, and sometimes $n = 10$.\n",
    "\n",
    "\n",
    "For example, bi-grams of the string\n",
    "\n",
    "`'今日はいい天気ですね。'`\n",
    "\n",
    "are as follows.\n",
    "\n",
    "`'今日'`, `'日は'`, `'はい'`, `'いい'`, `'い天'`, '`天気'`, `'気で'`, `'です'`, `'すね'`, `'ね。'`\n",
    "\n",
    "Tri-grams are as follows.\n",
    "\n",
    "`'今日は'`, `'日はい'`, `'はいい'`, `'いい天'`, `'い天気'`, '`天気で'`, `'天です'`, `'ですね'`, `'すね。'`\n",
    "\n",
    "Uni-grams are simply letters because their length is 1.\n",
    "\n",
    "`'今'`, `'日'`, `'は'`, `'い'`, `'い'`, '`天'`, `'気'`, `'で'`, `'す'`, `'ね'`, `'。'`"
   ]
  },
  {
   "cell_type": "markdown",
   "metadata": {},
   "source": [
    "### 課題\n",
    "\n",
    "文字列 `s` と正の整数 `n` が与えられたとき、`n`-gram を `s` の頭から順にすべて抜き出し、\n",
    "それらをリストにして返す関数 `letter_n_gram_list(s,n)` を定義してください。\n",
    "\n",
    "たとえば、`letter_n_gram_list('今日は', 2)` は、\n",
    "\n",
    "`['今日', '日は']`\n",
    "\n",
    "というリストを返します。`letter_n_gram_list('今日は', 3)` は、\n",
    "\n",
    "`['今日は']`\n",
    "\n",
    "というリストを返します。また、長さ 3 の文字列には 4-gram は含まれないので、 `letter_n_gram_list('今日は', 4)` は空リストを返します。\n",
    "\n",
    "`[]`\n",
    "\n",
    "ヒント：\n",
    "* `range` 関数を用いたfor文を使うことができます。\n",
    "* 文字列の長さは `len` 関数で求まります。\n",
    "* `n`-gram は文字列に対するスライスを使って取り出せます。\n",
    "* 空リストから始めて、`n`-gram を `append` メソッドでリストに追加していけばよいでしょう。"
   ]
  },
  {
   "cell_type": "markdown",
   "metadata": {},
   "source": [
    "### Exercise\n",
    "\n",
    "Define a function named `letter_n_gram_list(s,n)`,\n",
    "which is given a string `s` and a positive integer `n`, extracts all `n`-grams beginning at the head of `s`,\n",
    "and returns a list of those `n`-grams.\n",
    "\n",
    "For example, `letter_n_gram_list('今日は', 2)` should return the following list.\n",
    "\n",
    "`['今日', '日は']`\n",
    "\n",
    "`letter_n_gram_list('今日は', 3)` should return the following list.\n",
    "\n",
    "`['今日は']`\n",
    "\n",
    "Since a string of length 3 does not contain a 4-gram, `letter_n_gram_list('今日は', 4)` should return the empty list.\n",
    "\n",
    "`[]`\n",
    "\n",
    "Hints:\n",
    "* You can use a for-statement with the `range` funciton.\n",
    "* The length of a string can be obtained by the `len` function.\n",
    "* You can extract an `n`-gram as a slice on a string.\n",
    "* Beginning with the empty list, you can add `n`-grams to the list using the `append` method."
   ]
  },
  {
   "cell_type": "code",
   "execution_count": 13,
   "metadata": {},
   "outputs": [],
   "source": [
    "##########################################################\n",
    "##  <[ pre3-1-letter_n_gram_list ]> 解答セル (Answer cell)\n",
    "##  このコメントの書き変えを禁ず (Never edit this comment)\n",
    "##########################################################\n",
    "\n",
    "def letter_n_gram_list(s, n):\n",
    "    ans = []\n",
    "    for i in range(len(s)):\n",
    "        if i+n <= len(s):\n",
    "            ans.append(s[i:i+n])\n",
    "    return ans"
   ]
  },
  {
   "cell_type": "markdown",
   "metadata": {},
   "source": [
    "提出前に以下のテストセルを実行し、 `True` のみが出力されることを確認してください。"
   ]
  },
  {
   "cell_type": "markdown",
   "metadata": {},
   "source": [
    "Before submission, execute the following test cell and check if only `True` is printed."
   ]
  },
  {
   "cell_type": "code",
   "execution_count": 14,
   "metadata": {},
   "outputs": [
    {
     "name": "stdout",
     "output_type": "stream",
     "text": [
      "True\n",
      "True\n",
      "True\n",
      "True\n",
      "True\n",
      "True\n",
      "True\n",
      "True\n",
      "True\n"
     ]
    }
   ],
   "source": [
    "print(letter_n_gram_list('今日は', 1) == ['今', '日', 'は'])\n",
    "print(letter_n_gram_list('今日は', 2) == ['今日', '日は'])\n",
    "print(letter_n_gram_list('今日は', 3) == ['今日は'])\n",
    "print(letter_n_gram_list('今日は', 4) == [])\n",
    "print(letter_n_gram_list('abcd', 3) == ['abc', 'bcd'])\n",
    "print(letter_n_gram_list('abcd', 4) == ['abcd'])\n",
    "print(letter_n_gram_list('abcd', 5) == [])\n",
    "print(letter_n_gram_list('', 1) == [])\n",
    "print(letter_n_gram_list('', 2) == [])"
   ]
  },
  {
   "cell_type": "markdown",
   "metadata": {},
   "source": [
    "## Pre3-2. 文字列と辞書\n",
    "\n",
    "与えられた英文に含まれる主要母音文字 A E I O および U の文字をそれぞれ数え、文字をキーに出現頻度を値とする、辞書を返す関数、`vowels_count`を定義してください。英文として `Is this a pen?` が与えられると、これには 'I' が 2 回, 'A', 'E' が 1 回、'U', 'O' が 0 回含まれており、`vowels_count` は `{'I':2, 'A':1, 'E':1, 'U':0, 'O':0}` を返します。`vowels_count` は大文字小文字を区別しない関数とします。"
   ]
  },
  {
   "cell_type": "markdown",
   "metadata": {},
   "source": [
    "## Pre3-2. str and dict\n",
    "\n",
    "Define a function called `vowels_count` that counts major ascii vowel characters, i.e. A, E, I, O and U in a given english string.  `vowels_count` returns a dictionary as the character for the key, and the frequency number for the value.\n",
    "In case of `Is this a pen?` is given, since it includes two for 'I', one for 'A' and 'E', and zero for 'U' and 'O', `vowel_count` returns a dictionary, such as  `{'I':2, 'A':1, 'E':1, 'U':0, 'O':0}`. Note that `vowels_count` is a case **insensitive** function."
   ]
  },
  {
   "cell_type": "code",
   "execution_count": 26,
   "metadata": {},
   "outputs": [],
   "source": [
    "##########################################################\n",
    "##  <[ pre3-2-vowels_count ]> 解答セル (Answer cell)\n",
    "##  このコメントの書き変えを禁ず (Never edit this comment)\n",
    "##########################################################\n",
    "\n",
    "def vowels_count(s):\n",
    "    ans = {'I':0, 'A':0, 'E':0, 'U':0, 'O':0}\n",
    "    for ch in s:\n",
    "        if ch.upper() in \"IAEUO\":\n",
    "            ans[ch.upper()] += 1\n",
    "    return ans"
   ]
  },
  {
   "cell_type": "markdown",
   "metadata": {},
   "source": [
    "提出前に以下のテストセルを実行し、 `True` のみが出力されることを確認してください。"
   ]
  },
  {
   "cell_type": "markdown",
   "metadata": {},
   "source": [
    "Before submission, execute the following test cell and check if only `True` is printed."
   ]
  },
  {
   "cell_type": "code",
   "execution_count": 27,
   "metadata": {},
   "outputs": [
    {
     "data": {
      "text/plain": [
       "True"
      ]
     },
     "execution_count": 27,
     "metadata": {},
     "output_type": "execute_result"
    }
   ],
   "source": [
    "vowels_count('Is this a pen?') == {'I': 2, 'A': 1, 'E': 1, 'U': 0, 'O': 0}"
   ]
  },
  {
   "cell_type": "code",
   "execution_count": null,
   "metadata": {},
   "outputs": [],
   "source": []
  }
 ],
 "metadata": {
  "kernelspec": {
   "display_name": "Python 3",
   "language": "python",
   "name": "python3"
  },
  "language_info": {
   "codemirror_mode": {
    "name": "ipython",
    "version": 3
   },
   "file_extension": ".py",
   "mimetype": "text/x-python",
   "name": "python",
   "nbconvert_exporter": "python",
   "pygments_lexer": "ipython3",
   "version": "3.7.3"
  },
  "lecture_term": "2019A1"
 },
 "nbformat": 4,
 "nbformat_minor": 4
}
