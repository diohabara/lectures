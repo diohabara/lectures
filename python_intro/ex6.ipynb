{
 "cells": [
  {
   "cell_type": "markdown",
   "metadata": {},
   "source": [
    "# 第6回本課題 / Exercises 6"
   ]
  },
  {
   "cell_type": "markdown",
   "metadata": {},
   "source": [
    "## Ex6-1. Markdown形式の表の処理 (cells)\n",
    "\n",
    "Jupyter Notebookでは、Markdownと呼ばれる形式で文書を記述します。\n",
    "本課題では、Markdown形式で記述された表データを処理することを考えます。\n",
    "\n",
    "以下は、Markdown形式で記述された表の例です。\n",
    "```markdown\n",
    "| 名前     | 年齢 | 職業                               |\n",
    "| ---      | ---  | ---                                |\n",
    "| 東大太郎 | 20   | 学生                               |\n",
    "| 東大次郎 | 18   | 学生                               |\n",
    "| 岩田聡   | 55   | ゲームクリエイター                 |\n",
    "| Larry    | 12   | Chief Mouser to the Cabinet Office |\n",
    "| 香香     |  2   | ジャイアントパンダ                 |\n",
    "```\n",
    "最初の行は見出し（フィールド名）で、2番目の行はセル内の字寄せ（アラインメント）を意味します。\n",
    "3行目以降が表のデータ部分です。\n",
    "（縦棒`|`の位置を縦に揃えているのは、読みやすさのための単なる慣習です。）\n",
    "簡単のため、表中には空のセルはないと仮定します。\n",
    "上の記述は以下のように表示されます。\n",
    "\n",
    "| 名前     | 年齢 | 職業                               |\n",
    "| ---      | ---  | ---                                |\n",
    "| 東大太郎 | 20   | 学生                               |\n",
    "| 東大次郎 | 18   | 学生                               |\n",
    "| 岩田聡   | 55   | ゲームクリエイター                 |\n",
    "| Larry    | 12   | Chief Mouser to the Cabinet Office |\n",
    "| 香香     |  2   | ジャイアントパンダ                 |\n",
    "\n",
    "以下の関数`datarows()`は、Markdown形式の表が1つ保存されたファイルオブジェクト（行単位のイテレータ）を受け取り、\n",
    "データ部分の各行を処理して、タプルのリストを返します。\n",
    "`datarows()` は、ファイルの各行を文字列として処理する関数`cells()`を参照しています。\n",
    "\n",
    "---\n",
    "\n",
    "```python\n",
    "def cells(line):\n",
    "    return list(filter(lambda x: x != '', map(str.strip, line.split('|'))))\n",
    "\n",
    "def datarows(f):\n",
    "    next(f)\n",
    "    next(f)\n",
    "    return list(enumerate(map(cells, f)))\n",
    "```\n",
    "\n",
    "---\n",
    "\n",
    "`cells()`と`datarows()`の定義を読み解き、\n",
    "以下の関数`impr_cells()`と`impr_datarows()`が、`cells()`と`datarows()`と同じ機能を持つように、\n",
    "`...`の部分を埋めてください。\n",
    "（`impr`は命令的 (imperative) を意味します。）\n",
    "なお、`impr_datarows()`は`impr_cells()`を参照しなければなりません。\n",
    "\n",
    "まず、`impr_cells()`の定義を完成させてください。\n",
    "\n",
    "なお、関数`str.strip(s)`は、文字列`s`の先頭および末尾にある連続した空白文字を消去して得られる文字列を返します。"
   ]
  },
  {
   "cell_type": "markdown",
   "metadata": {},
   "source": [
    "## Ex6-1. Processing of tables in Markdown (cells)\n",
    "\n",
    "In Jupyter Notebooks, we describe text in the format called Markdown.\n",
    "This exercise focuses on processing tables in the Markdown format.\n",
    "\n",
    "Following is an example of a table described in Markdown.\n",
    "```markdown\n",
    "| 名前     | 年齢 | 職業                               |\n",
    "| ---      | ---  | ---                                |\n",
    "| 東大太郎 | 20   | 学生                               |\n",
    "| 東大次郎 | 18   | 学生                               |\n",
    "| 岩田聡   | 55   | ゲームクリエイター                 |\n",
    "| Larry    | 12   | Chief Mouser to the Cabinet Office |\n",
    "| 香香     |  2   | ジャイアントパンダ                 |\n",
    "```\n",
    "The first line denotes the captions of columns (i.e., field names); the second line denotes the alignment of cells.\n",
    "The third and the following lines denote the data part.\n",
    "(The vertical bars `|` are vertically aligned only for readability.)\n",
    "For simplicity of this exercise, we assume that tables have no blank cell.\n",
    "The above description is shown as follows.\n",
    "\n",
    "| 名前     | 年齢 | 職業                               |\n",
    "| ---      | ---  | ---                                |\n",
    "| 東大太郎 | 20   | 学生                               |\n",
    "| 東大次郎 | 18   | 学生                               |\n",
    "| 岩田聡   | 55   | ゲームクリエイター                 |\n",
    "| Larry    | 12   | Chief Mouser to the Cabinet Office |\n",
    "| 香香     |  2   | ジャイアントパンダ                 |\n",
    "\n",
    "The following function `datarows()` takes a file object (i.e., linewise iterator) containing a table in Markdown,\n",
    "processes each row of its data part, and returns a list of tuples.\n",
    "The function `datarows()` refers to the function `cells()`, which processes each row as a string.\n",
    "\n",
    "---\n",
    "\n",
    "```python\n",
    "def cells(line):\n",
    "    return list(filter(lambda x: x != '', map(str.strip, line.split('|'))))\n",
    "\n",
    "def datarows(f):\n",
    "    next(f)\n",
    "    next(f)\n",
    "    return list(enumerate(map(cells, f)))\n",
    "```\n",
    "\n",
    "---\n",
    "\n",
    "Analyze the definitions of `cells()` and `datarows()`, and define the following functions `impr_cells()` and `impr_datarows()`\n",
    "by filling the parts`...` so that they have the same functions as those of `cells()` and `datarows()`,\n",
    "where `impr` means to be imperative.\n",
    "Note that `impr_datarows()` should refer to `impr_cells()`.\n",
    "\n",
    "First, complete the definition of `impr_cells()`.\n",
    "\n",
    "Note that the function `str.strip(s)` removes consecutive space characters at the beginning or at the end of string `s`\n",
    "and returns the resulting string."
   ]
  },
  {
   "cell_type": "code",
   "execution_count": 4,
   "metadata": {},
   "outputs": [],
   "source": [
    "##########################################################\n",
    "##  <[ ex6-1-impr_cells ]> 解答セル (Answer cell)\n",
    "##  このコメントの書き変えを禁ず (Never edit this comment)\n",
    "##########################################################\n",
    "\n",
    "def impr_cells(line):\n",
    "    ls = []\n",
    "    for s in line.split(\"|\"):\n",
    "        x = s.strip(\" \")\n",
    "        if x != \"\":\n",
    "            ls.append(x)\n",
    "    return ls"
   ]
  },
  {
   "cell_type": "markdown",
   "metadata": {},
   "source": [
    "提出前に以下のテストセルを実行し、 `True` のみが出力されることを確認してください。"
   ]
  },
  {
   "cell_type": "markdown",
   "metadata": {},
   "source": [
    "Before submission, execute the following test cell and check if only `True` is printed."
   ]
  },
  {
   "cell_type": "code",
   "execution_count": 5,
   "metadata": {},
   "outputs": [
    {
     "data": {
      "text/plain": [
       "True"
      ]
     },
     "execution_count": 5,
     "metadata": {},
     "output_type": "execute_result"
    }
   ],
   "source": [
    "s = '| 東大太郎 | 20   | 学生                               |'\n",
    "impr_cells(s) == ['東大太郎', '20', '学生']"
   ]
  },
  {
   "cell_type": "markdown",
   "metadata": {},
   "source": [
    "## Ex6-2. Markdown形式の表の処理 (datarows)\n",
    "\n",
    "次に、`impr_datarows()`の定義を完成させてください。"
   ]
  },
  {
   "cell_type": "markdown",
   "metadata": {},
   "source": [
    "## Ex6-2. Processing of tables in Markdown (datarows)\n",
    "\n",
    "Next, complete the definition of `impr_datarows()`."
   ]
  },
  {
   "cell_type": "code",
   "execution_count": 6,
   "metadata": {},
   "outputs": [],
   "source": [
    "##########################################################\n",
    "##  <[ ex6-2-impr_datarows ]> 解答セル (Answer cell)\n",
    "##  このコメントの書き変えを禁ず (Never edit this comment)\n",
    "##########################################################\n",
    "\n",
    "def impr_datarows(f):\n",
    "    next(f)\n",
    "    next(f)\n",
    "    n = 0\n",
    "    ll = []\n",
    "    for s in f:\n",
    "        ll.append(impr_cells(s))\n",
    "    ll = list(enumerate(ll))\n",
    "    return ll"
   ]
  },
  {
   "cell_type": "markdown",
   "metadata": {},
   "source": [
    "提出前に以下のテストセルを実行し、 `True` のみが出力されることを確認してください。"
   ]
  },
  {
   "cell_type": "markdown",
   "metadata": {},
   "source": [
    "Before submission, execute the following test cell and check if only `True` is printed."
   ]
  },
  {
   "cell_type": "code",
   "execution_count": 7,
   "metadata": {},
   "outputs": [
    {
     "data": {
      "text/plain": [
       "True"
      ]
     },
     "execution_count": 7,
     "metadata": {},
     "output_type": "execute_result"
    }
   ],
   "source": [
    "s = ['| 名前     | 年齢 | 職業                               |',\n",
    "     '| ---      | ---  | ---                                |',\n",
    "     '| 東大太郎 | 20   | 学生                               |',\n",
    "     '| 東大次郎 | 18   | 学生                               |',\n",
    "     '| 岩田聡   | 55   | ゲームクリエイター                 |',\n",
    "     '| Larry    | 12   | Chief Mouser to the Cabinet Office |',\n",
    "     '| 香香     |  2   | ジャイアントパンダ                 |']\n",
    "\n",
    "impr_datarows(iter(s)) == [\n",
    "    (0, ['東大太郎', '20', '学生']),\n",
    "    (1, ['東大次郎', '18', '学生']),\n",
    "    (2, ['岩田聡', '55', 'ゲームクリエイター']),\n",
    "    (3, ['Larry', '12', 'Chief Mouser to the Cabinet Office']),\n",
    "    (4, ['香香', '2', 'ジャイアントパンダ'])]"
   ]
  },
  {
   "cell_type": "code",
   "execution_count": null,
   "metadata": {},
   "outputs": [],
   "source": []
  }
 ],
 "metadata": {
  "kernelspec": {
   "display_name": "Python 3",
   "language": "python",
   "name": "python3"
  },
  "language_info": {
   "codemirror_mode": {
    "name": "ipython",
    "version": 3
   },
   "file_extension": ".py",
   "mimetype": "text/x-python",
   "name": "python",
   "nbconvert_exporter": "python",
   "pygments_lexer": "ipython3",
   "version": "3.7.3"
  },
  "lecture_term": "2019A1"
 },
 "nbformat": 4,
 "nbformat_minor": 2
}
