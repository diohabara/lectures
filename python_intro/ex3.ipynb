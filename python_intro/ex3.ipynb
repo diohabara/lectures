{
 "cells": [
  {
   "cell_type": "markdown",
   "metadata": {},
   "source": [
    "# 第3回本課題 / Exercises 3"
   ]
  },
  {
   "cell_type": "markdown",
   "metadata": {},
   "source": [
    "## Ex3-1. 英文字の出現頻度をキーとする辞書\n",
    "\n",
    "与えられた英文に含まれる英語アルファベット A-Z 26 文字の出現回数を数え、結果を辞書として返す関数 `freq_letters` を定義してください。\n",
    "返される辞書のキーは 0 回を含む出現回数、対応する値はアルファベットの大文字からなるリストとしてください。\n",
    "リスト要素はすべてアルファベット順としてください。\n",
    "\n",
    "たとえば、`Is this a pen?` が与えられると、`I`, `S` の出現回数は２回 `A`, `E`, `H`, `N`, `P`, `T` が１回、その他の文字は０回ですので、\n",
    "`freq_letters` は `{2 :['I', 'S'], 1 :['A', 'E', ...], 0: ['B', 'C', ...]` を返します。"
   ]
  },
  {
   "cell_type": "markdown",
   "metadata": {},
   "source": [
    "## Ex3-1. Dictionary with English letter frequency as key.\n",
    "\n",
    "Define a function called `freq_letters` that counts occurrences of each of the 26 English alphabetical letters, A-Z,\n",
    "and returns the result as a dictionary.\n",
    "Each key of the dictionary is the number of occurrences including zero, and its value is the list of the uppercase alphabetical letters that have the number of occurrences.\n",
    "All the lists must be sorted in the alphabetical order.\n",
    "\n",
    "In case `Is this a pen?` is given, since `I` and `S` have two occurrences, `A`, `E`, `H`, `N`, `P` and `T` have one occurrence,\n",
    "and the others have no occurrence,\n",
    "`freq_letters` returns the dictionary `{2 :['I', 'S'], 1 :['A', 'E', ...], 0: ['B', 'C', ...]`."
   ]
  },
  {
   "cell_type": "code",
   "execution_count": 105,
   "metadata": {},
   "outputs": [],
   "source": [
    "##########################################################\n",
    "##  <[ ex3-1-freq_letters ]> 解答セル (Answer cell)\n",
    "##  このコメントの書き変えを禁ず (Never edit this comment)\n",
    "##########################################################\n",
    "\n",
    "def freq_letters(s):\n",
    "    ans = {}\n",
    "    dic = {}\n",
    "    alpha = \"\"\n",
    "    for i in range(26):\n",
    "        small_letter = chr(i + ord('a'))\n",
    "        capital_letter = chr(i + ord('A'))\n",
    "        dic[capital_letter] = s.count(small_letter) + s.count(capital_letter)\n",
    "        alpha += chr(i + ord('A'))\n",
    "    for k, v in dic.items():\n",
    "        if ans.get(v):\n",
    "            ans[v].append(k)\n",
    "        else:\n",
    "            ans[v] = []\n",
    "            ans[v].append(k)\n",
    "    ans = sorted(ans.items(), key=lambda x:-x[0])\n",
    "    return dict(ans)"
   ]
  },
  {
   "cell_type": "markdown",
   "metadata": {},
   "source": [
    "提出前に以下のテストセルを実行し、 `True` のみが出力されることを確認してください。"
   ]
  },
  {
   "cell_type": "markdown",
   "metadata": {},
   "source": [
    "Before submission, execute the following test cell and check if only `True` is printed."
   ]
  },
  {
   "cell_type": "code",
   "execution_count": 106,
   "metadata": {},
   "outputs": [
    {
     "name": "stdout",
     "output_type": "stream",
     "text": [
      "{1: ['A', 'E', 'H', 'N', 'P', 'T'], 0: ['B', 'C', 'D', 'F', 'G', 'J', 'K', 'L', 'M', 'O', 'Q', 'R', 'U', 'V', 'W', 'X', 'Y', 'Z'], 2: ['I', 'S']}\n",
      "True\n",
      "{0: ['A', 'B', 'C', 'D', 'E', 'F', 'G', 'H', 'I', 'J', 'K', 'L', 'M', 'N', 'O', 'P', 'Q', 'R', 'S', 'T', 'U', 'V', 'X', 'Y', 'Z'], 17: ['W']}\n",
      "True\n",
      "{2: ['A', 'B', 'C', 'D', 'E', 'F', 'G', 'H', 'I', 'J', 'K', 'L', 'M', 'N', 'O', 'P', 'Q', 'R', 'S', 'T', 'U', 'V', 'W', 'X', 'Y', 'Z']}\n",
      "True\n"
     ]
    }
   ],
   "source": [
    "result_is_this_a_pen = freq_letters('Is this a pen?')\n",
    "expect_is_this_a_pen = {2: ['I', 'S'], 1: ['A', 'E', 'H', 'N', 'P', 'T'], 0: ['B','C','D','F','G','J','K','L','M','O','Q','R','U','V','W','X','Y','Z']}\n",
    "print(result_is_this_a_pen == expect_is_this_a_pen)\n",
    "\n",
    "result_w17 = freq_letters('wwwwwwwwwwwwwwwww')\n",
    "expect_w17 = {17: ['W'], 0: ['A','B','C','D','E','F','G','H','I','J','K','L','M','N','O','P','Q','R','S','T','U','V','X','Y','Z']}\n",
    "print(result_w17 == expect_w17)\n",
    "\n",
    "result_all_symbol = freq_letters('0123456789abcdefghijklmnopqrstuvwxyzABCDEFGHIJKLMNOPQRSTUVWXYZ!\"#$%&\\'()*+,-./:;<=>?@[\\\\]^_`{|}~ \\t\\n\\r\\x0b\\x0c')\n",
    "expect_all_symbol = {2: ['A','B','C','D','E','F','G','H','I','J','K','L','M','N','O','P','Q','R','S','T','U','V','W','X','Y','Z']}\n",
    "print(result_all_symbol == expect_all_symbol)"
   ]
  },
  {
   "cell_type": "code",
   "execution_count": null,
   "metadata": {},
   "outputs": [],
   "source": []
  }
 ],
 "metadata": {
  "kernelspec": {
   "display_name": "Python 3",
   "language": "python",
   "name": "python3"
  },
  "language_info": {
   "codemirror_mode": {
    "name": "ipython",
    "version": 3
   },
   "file_extension": ".py",
   "mimetype": "text/x-python",
   "name": "python",
   "nbconvert_exporter": "python",
   "pygments_lexer": "ipython3",
   "version": "3.7.3"
  },
  "lecture_term": "2019A1"
 },
 "nbformat": 4,
 "nbformat_minor": 4
}
