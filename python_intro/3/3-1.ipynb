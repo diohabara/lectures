{
 "cells": [
  {
   "cell_type": "markdown",
   "metadata": {
    "slideshow": {
     "slide_type": "slide"
    }
   },
   "source": [
    "# 3-1. 辞書型 (dictionary)\n",
    "キーと値を対応させるデータ構造、辞書、について説明します。\n",
    "\n",
    "参考\n",
    "\n",
    "- https://docs.python.org/ja/3/tutorial/datastructures.html#dictionaries\n",
    "\n",
    "**辞書型**は、**キー(key)** と **値(value)** を対応づけたデータです。\n",
    "キーとしては文字列・数値・タプルなど不変なデータ型を使うことができますが、変更可能なリスト・辞書を使うことはできません。\n",
    "一方、値としては変更の可否にかかわらずあらゆる種類のオブジェクトを指定できます。\n",
    "\n",
    "例えば、文字列 `apple` をキーとし値として数値 3 を、`pen` をキーとして 5 を、対応付けた辞書は次のように作成します。"
   ]
  },
  {
   "cell_type": "code",
   "execution_count": 1,
   "metadata": {},
   "outputs": [
    {
     "data": {
      "text/plain": [
       "{'apple': 3, 'pen': 5}"
      ]
     },
     "execution_count": 1,
     "metadata": {},
     "output_type": "execute_result"
    }
   ],
   "source": [
    "ppap = {'apple' : 3, 'pen' : 5}\n",
    "ppap"
   ]
  },
  {
   "cell_type": "code",
   "execution_count": 2,
   "metadata": {
    "slideshow": {
     "slide_type": "skip"
    }
   },
   "outputs": [
    {
     "data": {
      "text/plain": [
       "dict"
      ]
     },
     "execution_count": 2,
     "metadata": {},
     "output_type": "execute_result"
    }
   ],
   "source": [
    "type(ppap)"
   ]
  },
  {
   "cell_type": "markdown",
   "metadata": {
    "slideshow": {
     "slide_type": "slide"
    }
   },
   "source": [
    "`キー1`に対応する値を得るには、リストにおけるインデックスと同様に、\n",
    "\n",
    "---\n",
    "```Python\n",
    " 辞書[キー1]\n",
    "```\n",
    "---\n",
    "\n",
    "とします。"
   ]
  },
  {
   "cell_type": "code",
   "execution_count": 3,
   "metadata": {},
   "outputs": [
    {
     "data": {
      "text/plain": [
       "3"
      ]
     },
     "execution_count": 3,
     "metadata": {},
     "output_type": "execute_result"
    }
   ],
   "source": [
    "ppap = {'apple' : 3, 'pen' : 5}\n",
    "ppap['apple']"
   ]
  },
  {
   "cell_type": "markdown",
   "metadata": {
    "slideshow": {
     "slide_type": "slide"
    }
   },
   "source": [
    "辞書に登録されていないキーを指定すると、エラーになります。"
   ]
  },
  {
   "cell_type": "code",
   "execution_count": 4,
   "metadata": {},
   "outputs": [
    {
     "ename": "KeyError",
     "evalue": "'orange'",
     "output_type": "error",
     "traceback": [
      "\u001b[0;31m---------------------------------------------------------------------------\u001b[0m",
      "\u001b[0;31mKeyError\u001b[0m                                  Traceback (most recent call last)",
      "\u001b[0;32m<ipython-input-4-f7d700f1de78>\u001b[0m in \u001b[0;36m<module>\u001b[0;34m\u001b[0m\n\u001b[0;32m----> 1\u001b[0;31m \u001b[0mppap\u001b[0m\u001b[0;34m[\u001b[0m\u001b[0;34m'orange'\u001b[0m\u001b[0;34m]\u001b[0m\u001b[0;34m\u001b[0m\u001b[0;34m\u001b[0m\u001b[0m\n\u001b[0m",
      "\u001b[0;31mKeyError\u001b[0m: 'orange'"
     ]
    }
   ],
   "source": [
    "ppap['orange']"
   ]
  },
  {
   "cell_type": "markdown",
   "metadata": {
    "slideshow": {
     "slide_type": "slide"
    }
   },
   "source": [
    "キーに対する値を変更したり、新たなキー、値を登録するには代入を用います。"
   ]
  },
  {
   "cell_type": "code",
   "execution_count": 5,
   "metadata": {},
   "outputs": [
    {
     "data": {
      "text/plain": [
       "{'apple': 10, 'pen': 5, 'pinapple': 7}"
      ]
     },
     "execution_count": 5,
     "metadata": {},
     "output_type": "execute_result"
    }
   ],
   "source": [
    "ppap = {'apple' : 3, 'pen' : 5}\n",
    "ppap['apple'] = 10\n",
    "ppap['pinapple'] = 7\n",
    "ppap"
   ]
  },
  {
   "cell_type": "markdown",
   "metadata": {
    "slideshow": {
     "slide_type": "slide"
    }
   },
   "source": [
    "上のようにキーから値は取り出せますが、値からキーを直接取り出すことは出来ません。  \n",
    "また、リストのようにインデックスを指定して値を取得することは出来ません。"
   ]
  },
  {
   "cell_type": "code",
   "execution_count": 6,
   "metadata": {},
   "outputs": [
    {
     "ename": "KeyError",
     "evalue": "1",
     "output_type": "error",
     "traceback": [
      "\u001b[0;31m---------------------------------------------------------------------------\u001b[0m",
      "\u001b[0;31mKeyError\u001b[0m                                  Traceback (most recent call last)",
      "\u001b[0;32m<ipython-input-6-a560878f1de9>\u001b[0m in \u001b[0;36m<module>\u001b[0;34m\u001b[0m\n\u001b[0;32m----> 1\u001b[0;31m \u001b[0mppap\u001b[0m\u001b[0;34m[\u001b[0m\u001b[0;36m1\u001b[0m\u001b[0;34m]\u001b[0m\u001b[0;34m\u001b[0m\u001b[0;34m\u001b[0m\u001b[0m\n\u001b[0m",
      "\u001b[0;31mKeyError\u001b[0m: 1"
     ]
    }
   ],
   "source": [
    "ppap[1]"
   ]
  },
  {
   "cell_type": "markdown",
   "metadata": {
    "slideshow": {
     "slide_type": "slide"
    }
   },
   "source": [
    "キーが辞書に登録されているかどうかは、演算子 **`in`** を用いて調べることができます。"
   ]
  },
  {
   "cell_type": "code",
   "execution_count": null,
   "metadata": {},
   "outputs": [],
   "source": [
    "ppap = {'apple': 3, 'pen': 5}\n",
    "'apple' in ppap"
   ]
  },
  {
   "cell_type": "code",
   "execution_count": null,
   "metadata": {},
   "outputs": [],
   "source": [
    "'banana' in ppap"
   ]
  },
  {
   "cell_type": "markdown",
   "metadata": {
    "slideshow": {
     "slide_type": "slide"
    }
   },
   "source": [
    "組み込み関数 **`len`** によって、辞書に登録されている要素、キーと値のペア、の数が得られます。"
   ]
  },
  {
   "cell_type": "code",
   "execution_count": null,
   "metadata": {},
   "outputs": [],
   "source": [
    "ppap = {'apple': 3, 'pen': 5}\n",
    "len(ppap)"
   ]
  },
  {
   "cell_type": "markdown",
   "metadata": {
    "slideshow": {
     "slide_type": "slide"
    }
   },
   "source": [
    "**`del`** 文によって、登録されているキーの要素を削除することが出来ます。具体的には、次のように削除します。\n",
    "\n",
    "---\n",
    "```Python\n",
    "del 辞書[削除したいキー]\n",
    "```\n",
    "---"
   ]
  },
  {
   "cell_type": "code",
   "execution_count": 9,
   "metadata": {},
   "outputs": [],
   "source": [
    "ppap = {'apple' : 3, 'pen' : 5}\n",
    "del ppap['pen']"
   ]
  },
  {
   "cell_type": "markdown",
   "metadata": {},
   "source": [
    "空のリストと同様に空の辞書を作ることもできます。このような空のデータ型は繰り返し処理でしばしば使われます。"
   ]
  },
  {
   "cell_type": "code",
   "execution_count": 10,
   "metadata": {},
   "outputs": [
    {
     "data": {
      "text/plain": [
       "{}"
      ]
     },
     "execution_count": 10,
     "metadata": {},
     "output_type": "execute_result"
    }
   ],
   "source": [
    "empty_d = {}\n",
    "empty_d"
   ]
  },
  {
   "cell_type": "markdown",
   "metadata": {
    "slideshow": {
     "slide_type": "slide"
    }
   },
   "source": [
    "## 辞書のメソッド\n",
    "辞書のメソッドを紹介しておきます。"
   ]
  },
  {
   "cell_type": "markdown",
   "metadata": {},
   "source": [
    "### キーを指定して値を得るメソッド\n",
    "\n",
    "**`get`** メソッドは引数として指定したキーが含まれてる場合にはその値を取得し、指定したキーが含まれていない場合には `None` を返します。`get` を利用することで、エラーを回避し、登録されているかどうか分からないキーを使うことができます。\n",
    "先に説明したキーを括弧、`[...]`、で指定する方法ではキーが存在しないとエラーとなりプログラムの実行が停止してしまいます。"
   ]
  },
  {
   "cell_type": "code",
   "execution_count": 11,
   "metadata": {},
   "outputs": [
    {
     "name": "stdout",
     "output_type": "stream",
     "text": [
      "キーappleに対応する値 =  3\n",
      "キーorangeに対応する値 =  None\n"
     ]
    },
    {
     "ename": "KeyError",
     "evalue": "'orange'",
     "output_type": "error",
     "traceback": [
      "\u001b[0;31m---------------------------------------------------------------------------\u001b[0m",
      "\u001b[0;31mKeyError\u001b[0m                                  Traceback (most recent call last)",
      "\u001b[0;32m<ipython-input-11-a70752670fa0>\u001b[0m in \u001b[0;36m<module>\u001b[0;34m\u001b[0m\n\u001b[1;32m      2\u001b[0m \u001b[0mprint\u001b[0m\u001b[0;34m(\u001b[0m\u001b[0;34m'キーappleに対応する値 = '\u001b[0m\u001b[0;34m,\u001b[0m \u001b[0mppap\u001b[0m\u001b[0;34m.\u001b[0m\u001b[0mget\u001b[0m\u001b[0;34m(\u001b[0m\u001b[0;34m'apple'\u001b[0m\u001b[0;34m)\u001b[0m\u001b[0;34m)\u001b[0m\u001b[0;34m\u001b[0m\u001b[0;34m\u001b[0m\u001b[0m\n\u001b[1;32m      3\u001b[0m \u001b[0mprint\u001b[0m\u001b[0;34m(\u001b[0m\u001b[0;34m'キーorangeに対応する値 = '\u001b[0m\u001b[0;34m,\u001b[0m \u001b[0mppap\u001b[0m\u001b[0;34m.\u001b[0m\u001b[0mget\u001b[0m\u001b[0;34m(\u001b[0m\u001b[0;34m'orange'\u001b[0m\u001b[0;34m)\u001b[0m\u001b[0;34m)\u001b[0m\u001b[0;34m\u001b[0m\u001b[0;34m\u001b[0m\u001b[0m\n\u001b[0;32m----> 4\u001b[0;31m \u001b[0mprint\u001b[0m\u001b[0;34m(\u001b[0m\u001b[0;34m'キーorangeに対応する値（エラー） = '\u001b[0m\u001b[0;34m,\u001b[0m \u001b[0mppap\u001b[0m\u001b[0;34m[\u001b[0m\u001b[0;34m'orange'\u001b[0m\u001b[0;34m]\u001b[0m\u001b[0;34m)\u001b[0m\u001b[0;34m\u001b[0m\u001b[0;34m\u001b[0m\u001b[0m\n\u001b[0m",
      "\u001b[0;31mKeyError\u001b[0m: 'orange'"
     ]
    }
   ],
   "source": [
    "ppap = {'apple' : 3, 'pen' : 5}\n",
    "print('キーappleに対応する値 = ', ppap.get('apple'))\n",
    "print('キーorangeに対応する値 = ', ppap.get('orange'))\n",
    "print('キーorangeに対応する値（エラー） = ', ppap['orange'])"
   ]
  },
  {
   "cell_type": "markdown",
   "metadata": {},
   "source": [
    "また、`get` に2番目の引数を与えると、その値を「指定したキーが含まれていない場合」に返る値とすることが出来ます。"
   ]
  },
  {
   "cell_type": "code",
   "execution_count": 12,
   "metadata": {},
   "outputs": [
    {
     "name": "stdout",
     "output_type": "stream",
     "text": [
      "キーappleに対応する値 =  3\n",
      "キーorangeに対応する値 =  -1\n"
     ]
    }
   ],
   "source": [
    "ppap = {'apple' : 3, 'pen' : 5}\n",
    "print('キーappleに対応する値 = ', ppap.get('apple', -1))\n",
    "print('キーorangeに対応する値 = ', ppap.get('orange', -1))"
   ]
  },
  {
   "cell_type": "markdown",
   "metadata": {},
   "source": [
    "### ▲キーがない場合に登録をおこなう\n",
    "\n",
    "**`setdefault`** メソッドは、指定したキーが含まれてる場合には対応する値を返します。  \n",
    "キーが含まれていない場合には、2番目の引数として指定した値を返すと同時に、キーに対応する値として登録します。"
   ]
  },
  {
   "cell_type": "code",
   "execution_count": 13,
   "metadata": {},
   "outputs": [
    {
     "name": "stdout",
     "output_type": "stream",
     "text": [
      "キーappleに対応する値 =  3\n",
      "setdefault(\"apple\", 7)を実行後の辞書 =  {'apple': 3, 'pen': 5}\n",
      "キーorangeに対応する値 =  7\n",
      "setdefault(\"orange\", 7)を実行後の辞書 =  {'apple': 3, 'pen': 5, 'orange': 7}\n"
     ]
    }
   ],
   "source": [
    "ppap = {'apple' : 3, 'pen' : 5}\n",
    "print('キーappleに対応する値 = ', ppap.setdefault('apple', 7))\n",
    "print('setdefault(\"apple\", 7)を実行後の辞書 = ', ppap)\n",
    "print('キーorangeに対応する値 = ', ppap.setdefault('orange', 7))\n",
    "print('setdefault(\"orange\", 7)を実行後の辞書 = ', ppap)"
   ]
  },
  {
   "cell_type": "markdown",
   "metadata": {},
   "source": [
    "### ▲キーを指定した削除\n",
    "\n",
    "**`pop`** メソッドは指定したキーおよびそれに対応する値を削除し、削除されるキーに対応付けられた値を返します。"
   ]
  },
  {
   "cell_type": "code",
   "execution_count": 14,
   "metadata": {},
   "outputs": [
    {
     "name": "stdout",
     "output_type": "stream",
     "text": [
      "5\n",
      "{'apple': 3}\n"
     ]
    }
   ],
   "source": [
    "ppap = {'apple' : 3, 'pen' : 5}\n",
    "print(ppap.pop('pen'))\n",
    "print(ppap)"
   ]
  },
  {
   "cell_type": "markdown",
   "metadata": {
    "slideshow": {
     "slide_type": "slide"
    }
   },
   "source": [
    "### ▲全てのキー、値の削除\n",
    "**`clear`** メソッドは全てのキー、値を削除します。その結果、辞書は空となります。"
   ]
  },
  {
   "cell_type": "code",
   "execution_count": 15,
   "metadata": {},
   "outputs": [
    {
     "data": {
      "text/plain": [
       "{}"
      ]
     },
     "execution_count": 15,
     "metadata": {},
     "output_type": "execute_result"
    }
   ],
   "source": [
    "ppap = {'apple' : 3, 'pen' : 5}\n",
    "ppap.clear()\n",
    "ppap"
   ]
  },
  {
   "cell_type": "markdown",
   "metadata": {
    "slideshow": {
     "slide_type": "skip"
    }
   },
   "source": [
    "### キーの一覧を得る\n",
    "**`keys`** メソッドはキーの一覧を返します。これはリストのようなものとして扱うことができ、`for` ループと組み合わせて繰り返し処理で利用されます。"
   ]
  },
  {
   "cell_type": "code",
   "execution_count": 16,
   "metadata": {
    "slideshow": {
     "slide_type": "skip"
    }
   },
   "outputs": [
    {
     "data": {
      "text/plain": [
       "['apple', 'pen']"
      ]
     },
     "execution_count": 16,
     "metadata": {},
     "output_type": "execute_result"
    }
   ],
   "source": [
    "ppap = {'apple' : 3, 'pen' : 5}\n",
    "list(ppap.keys())"
   ]
  },
  {
   "cell_type": "markdown",
   "metadata": {
    "slideshow": {
     "slide_type": "skip"
    }
   },
   "source": [
    "### 値の一覧を得る\n",
    "**`values`** メソッドはキーに対応する全ての値の一覧を返します。これもリストのようなものとして扱うことができます。"
   ]
  },
  {
   "cell_type": "code",
   "execution_count": 17,
   "metadata": {
    "slideshow": {
     "slide_type": "skip"
    }
   },
   "outputs": [
    {
     "data": {
      "text/plain": [
       "[3, 5]"
      ]
     },
     "execution_count": 17,
     "metadata": {},
     "output_type": "execute_result"
    }
   ],
   "source": [
    "list(ppap.values())"
   ]
  },
  {
   "cell_type": "markdown",
   "metadata": {
    "slideshow": {
     "slide_type": "skip"
    }
   },
   "source": [
    "### キー、値の一覧を得る\n",
    "**`items`** メソッドはキーとそれに対応する値をタプルにした一覧を返します。 これもタプルを要素とするリストのようなものとして扱うことができ forループなどで活用します。"
   ]
  },
  {
   "cell_type": "code",
   "execution_count": 18,
   "metadata": {
    "slideshow": {
     "slide_type": "skip"
    }
   },
   "outputs": [
    {
     "data": {
      "text/plain": [
       "[('apple', 3), ('pen', 5)]"
      ]
     },
     "execution_count": 18,
     "metadata": {},
     "output_type": "execute_result"
    }
   ],
   "source": [
    "list(ppap.items())"
   ]
  },
  {
   "cell_type": "markdown",
   "metadata": {},
   "source": [
    "## ▲` keys, values, items` の返り値\n",
    "`keys, values, items`メソッドの一連の説明では、返り値を「リストのようなもの」と表現してきました。\n",
    "通常のリストとどう違うのでしょうか？  \n",
    "次の例では、ppap の `keys, values, items` メソッドの返り値をそれぞれ `ks, vs, itms` に代入し、printでそれぞれの内容を表示させています。  \n",
    "次いで、ppap に新たな要素を加えたのちに、同じ変数の内容を表示させています。 \n",
    "一、二回目の print で内容が異なることに注意してください。  \n",
    "もとの辞書が更新されると、これらの内容も動的に変わります。  "
   ]
  },
  {
   "cell_type": "code",
   "execution_count": 19,
   "metadata": {},
   "outputs": [
    {
     "name": "stdout",
     "output_type": "stream",
     "text": [
      "['apple', 'pen', 'orange']\n",
      "[3, 5, 7]\n",
      "[('apple', 3), ('pen', 5), ('orange', 7)]\n",
      "['apple', 'pen', 'orange', 'kiwi']\n",
      "[3, 5, 7, 9]\n",
      "[('apple', 3), ('pen', 5), ('orange', 7), ('kiwi', 9)]\n"
     ]
    }
   ],
   "source": [
    "ppap = {'apple': 3, 'pen': 5, 'orange': 7}\n",
    "ks = ppap.keys()\n",
    "vs = ppap.values()\n",
    "itms = ppap.items()\n",
    "print(list(ks))\n",
    "print(list(vs))\n",
    "print(list(itms))\n",
    "ppap['kiwi'] = 9\n",
    "print(list(ks))\n",
    "print(list(vs))\n",
    "print(list(itms))"
   ]
  },
  {
   "cell_type": "markdown",
   "metadata": {
    "slideshow": {
     "slide_type": "skip"
    }
   },
   "source": [
    "### ▲辞書を複製する\n",
    "**`copy`** メソッドは辞書を複製します。リストの場合と同様に一方の辞書を変更してももう一方の辞書は影響を受けません。"
   ]
  },
  {
   "cell_type": "code",
   "execution_count": 20,
   "metadata": {
    "slideshow": {
     "slide_type": "skip"
    }
   },
   "outputs": [
    {
     "name": "stdout",
     "output_type": "stream",
     "text": [
      "{'apple': 3, 'pen': 5, 'orange': 7, 'banana': 9}\n",
      "{'apple': 3, 'pen': 5, 'orange': 7}\n"
     ]
    }
   ],
   "source": [
    "ppap = {'apple': 3, 'pen': 5, 'orange': 7}\n",
    "ppap2 = ppap.copy()\n",
    "ppap['banana'] = 9\n",
    "print(ppap)\n",
    "print(ppap2)"
   ]
  },
  {
   "cell_type": "markdown",
   "metadata": {},
   "source": [
    "## 辞書とリスト"
   ]
  },
  {
   "cell_type": "markdown",
   "metadata": {},
   "source": [
    "冒頭に述べたように、辞書では値としてあらゆるデータ型を使用できます。\n",
    "すなわち、次のように値としてリストを使用する辞書を作成可能です。\n",
    "リストの要素にアクセスするには数字インデックスをさらに指定します。"
   ]
  },
  {
   "cell_type": "code",
   "execution_count": 21,
   "metadata": {},
   "outputs": [
    {
     "name": "stdout",
     "output_type": "stream",
     "text": [
      "[10, 20, 40]\n",
      "20\n"
     ]
    }
   ],
   "source": [
    "numbers = {'dozens': [10, 20, 40], 'hundreds': [100, 101, 120, 140]}\n",
    "print(numbers['dozens'])\n",
    "print(numbers['dozens'][1])"
   ]
  },
  {
   "cell_type": "markdown",
   "metadata": {},
   "source": [
    "逆に、辞書を要素にするリストを作成することも出来ます。"
   ]
  },
  {
   "cell_type": "code",
   "execution_count": 22,
   "metadata": {},
   "outputs": [
    {
     "name": "stdout",
     "output_type": "stream",
     "text": [
      "{'cat': 3, 'dog': 3, 'elephant': 8}\n",
      "3\n"
     ]
    }
   ],
   "source": [
    "ppap = {'apple': 3, 'pen': 5}\n",
    "pets = {'cat': 3, 'dog': 3, 'elephant': 8}\n",
    "ld = [ppap, pets]\n",
    "print(ld[1])\n",
    "print(ld[1]['dog'])"
   ]
  },
  {
   "cell_type": "markdown",
   "metadata": {},
   "source": [
    "## 練習\n",
    "\n",
    "リスト `list1` が引数として与えられたとき、`list1` の各要素 `value` をキー、` value` の `list1` におけるインデックスをキーに対応する値とした辞書を返す関数 `reverse_lookup` を作成して下さい。\n",
    "\n",
    "以下のセルの `...` のところを書き換えて `reverse_lookup(list1)` を作成して下さい。"
   ]
  },
  {
   "cell_type": "code",
   "execution_count": 23,
   "metadata": {},
   "outputs": [],
   "source": [
    "def reverse_lookup(list1):\n",
    "    ..."
   ]
  },
  {
   "cell_type": "markdown",
   "metadata": {},
   "source": [
    "上のセルで解答を作成した後、以下のセルを実行し、実行結果が `True` になることを確認して下さい。"
   ]
  },
  {
   "cell_type": "code",
   "execution_count": 24,
   "metadata": {},
   "outputs": [
    {
     "name": "stdout",
     "output_type": "stream",
     "text": [
      "False\n"
     ]
    }
   ],
   "source": [
    "print(reverse_lookup(['apple', 'pen', 'orange']) == {'apple': 0, 'orange': 2, 'pen': 1})"
   ]
  },
  {
   "cell_type": "markdown",
   "metadata": {},
   "source": [
    "## 練習\n",
    "\n",
    "辞書 `dic1` と文字列 str1 が引数として与えられたとき、辞書 `dic2` を返す関数 `handle_collision` を作成して下さい。ただし、\n",
    "* `dic1` のキーは整数、キーに対応する値は文字列を要素とするリストとします。\n",
    "* `handle_collision` では、`dic1` から次の様な処理を行って `dic2` を作成するものとします。\n",
    " 1. `dic1` に `str1` の長さの値 `len` がキーとして登録されていない場合、`str1` のみを要素とするリスト `ln` を作成し、 `dic1` にキー `len`、`len` に対応する値 `ln` を登録します。\n",
    " 2. `dic1` に `str1` の長さの値 `len` がキーとして登録されている場合、そのキーに対応する値（リスト）に `str1` を追加します。\n",
    "\n",
    "以下のセルの `...` のところを書き換えて `handle_collision(dic1, str1)` を作成して下さい。"
   ]
  },
  {
   "cell_type": "code",
   "execution_count": 26,
   "metadata": {},
   "outputs": [],
   "source": [
    "def handle_collision(dic1, str1):\n",
    "    print(dic1)"
   ]
  },
  {
   "cell_type": "markdown",
   "metadata": {},
   "source": [
    "上のセルで解答を作成した後、以下のセルを実行し、実行結果が `True` になることを確認して下さい。"
   ]
  },
  {
   "cell_type": "code",
   "execution_count": 27,
   "metadata": {},
   "outputs": [
    {
     "name": "stdout",
     "output_type": "stream",
     "text": [
      "{3: ['ham', 'egg'], 6: ['coffee', 'brandy'], 9: ['port wine'], 15: ['curried chicken']}\n",
      "False\n"
     ]
    }
   ],
   "source": [
    "print(handle_collision({3: ['ham', 'egg'], 6: ['coffee', 'brandy'], 9: ['port wine'], 15: ['curried chicken']}, 'tea') == {3: ['ham', 'egg', 'tea'], 6: ['coffee', 'brandy'], 9: ['port wine'], 15: ['curried chicken']})"
   ]
  },
  {
   "cell_type": "markdown",
   "metadata": {},
   "source": [
    "## 練習の解答"
   ]
  },
  {
   "cell_type": "code",
   "execution_count": null,
   "metadata": {},
   "outputs": [],
   "source": [
    "def reverse_lookup(list1):\n",
    "    dic1 = {}  # 空の辞書を作成する\n",
    "    for value in range(len(list1)):\n",
    "        dic1[list1[value]] = value\n",
    "    return dic1\n",
    "#reverse_lookup(['apple', 'pen', 'orange'])"
   ]
  },
  {
   "cell_type": "code",
   "execution_count": null,
   "metadata": {},
   "outputs": [],
   "source": [
    "def handle_collision(dic1, str1):\n",
    "    if dic1.get(len(str1)) is None:\n",
    "        ln = [str1]\n",
    "    else:\n",
    "        ln = dic1[len(str1)]\n",
    "        ln.append(str1)\n",
    "    dic1[len(str1)] = ln\n",
    "    return dic1\n",
    "#handle_collision({3: ['ham', 'egg'], 6: ['coffee', 'brandy'], 9: ['port wine'], 15: ['curried chicken']}, 'tea')"
   ]
  }
 ],
 "metadata": {
  "kernelspec": {
   "display_name": "Python 3",
   "language": "python",
   "name": "python3"
  },
  "language_info": {
   "codemirror_mode": {
    "name": "ipython",
    "version": 3
   },
   "file_extension": ".py",
   "mimetype": "text/x-python",
   "name": "python",
   "nbconvert_exporter": "python",
   "pygments_lexer": "ipython3",
   "version": "3.6.8"
  }
 },
 "nbformat": 4,
 "nbformat_minor": 4
}
