{
 "cells": [
  {
   "cell_type": "markdown",
   "metadata": {},
   "source": [
    "# 第2回本課題 / Exercises 2"
   ]
  },
  {
   "cell_type": "markdown",
   "metadata": {},
   "source": [
    "## Ex2-1. Mann Whitney の U\n",
    "\n",
    "二つの整数のリスト `a` と `b` を引数とする関数 `U(a,b)` を定義してください。\n",
    "関数 `U(a,b)` は、`a` の要素と `b` の要素のすべての組み合わせに対して、\n",
    "- `a` の要素の方が `b` の要素よりも大きければ 1、\n",
    "- 等しければ 0.5、\n",
    "- `a` の要素の方が `b` の要素よりも小さければ 0\n",
    "\n",
    "を選び、それら値の総和を返します。\n",
    "\n",
    "総和は `return` で返してください、`print()` による印字は不正解とします。\n",
    "\n",
    "for文を用いると、以下のような形になるでしょう。\n",
    "```Python\n",
    "def U(a,b):\n",
    "    ...\n",
    "    for x in a:\n",
    "        for y in b:\n",
    "            ...\n",
    "            ...\n",
    "    return ...\n",
    "```\n",
    "必ずしもこの形にする必要はありません。たとえば、内包表記を用いても構いません。\n",
    "\n",
    "以下のセルの `...` のところを書き換えください。"
   ]
  },
  {
   "cell_type": "markdown",
   "metadata": {},
   "source": [
    "## Ex2-1. Mann Whitney U value\n",
    "\n",
    "Define a function `U(a,b)` that is given two lists `a` and `b` of integers as arguments.\n",
    "For each pair of an element of `a` and an element of `b`, the function `U(a,b)` selects\n",
    "- 1 if the element of `a` is greater than that of `b`,\n",
    "- 0.5 if they are identical, and\n",
    "- 0 if the element of `a` is less than that of `b`,\n",
    "\n",
    "and returns the sum of those values.\n",
    "\n",
    "Return the sum by `return`. Printing it by `print()` is regarded as an incorrect answer.\n",
    "\n",
    "If for-statements are used, the definition can be as follows.\n",
    "```Python\n",
    "def U(a,b):\n",
    "    ...\n",
    "    for x in a:\n",
    "        for y in b:\n",
    "            ...\n",
    "            ...\n",
    "    return ...\n",
    "```\n",
    "It is not necessary to follow this form. For example, comprehension can be used.\n",
    "\n",
    "Rewrite the part `...` in the following cell."
   ]
  },
  {
   "cell_type": "code",
   "execution_count": 1,
   "metadata": {},
   "outputs": [],
   "source": [
    "##########################################################\n",
    "##  <[ ex2-1-U ]> 解答セル (Answer cell)\n",
    "##  このコメントの書き変えを禁ず (Never edit this comment)\n",
    "##########################################################\n",
    "\n",
    "def U(a, b):\n",
    "    ans = 0\n",
    "    for val_a in a:\n",
    "        for val_b in b:\n",
    "            if val_a > val_b:\n",
    "                ans += 1\n",
    "            elif val_a == val_b:\n",
    "                ans += 0.5\n",
    "    return ans"
   ]
  },
  {
   "cell_type": "markdown",
   "metadata": {},
   "source": [
    "提出前に以下のテストセルを実行し、 `True` のみが出力されることを確認してください。"
   ]
  },
  {
   "cell_type": "markdown",
   "metadata": {},
   "source": [
    "Before submission, execute the following test cell and check if only `True` is printed."
   ]
  },
  {
   "cell_type": "code",
   "execution_count": 2,
   "metadata": {},
   "outputs": [
    {
     "name": "stdout",
     "output_type": "stream",
     "text": [
      "True\n",
      "True\n",
      "True\n",
      "True\n",
      "True\n",
      "True\n",
      "True\n",
      "True\n",
      "True\n",
      "True\n",
      "True\n",
      "True\n",
      "True\n",
      "True\n"
     ]
    }
   ],
   "source": [
    "print(U([1,2,3],[4,5]) == 0.0)\n",
    "print(U([1,2,3],[3,4]) == 0.5)\n",
    "print(U([1,2,3],[3,4,5]) == 0.5)\n",
    "print(U([1,2,3],[2,3,4]) == 2.0)\n",
    "print(U([1,2,3],[1,2,3]) == 4.5)\n",
    "print(U([1,2,3],[0,1,2]) == 7.0)\n",
    "print(U([3,2,1],[0,1,2]) == 7.0)\n",
    "print(U([1,2,3],[0,1]) == 5.5)\n",
    "print(U([1,2,3],[0]) == 3.0)\n",
    "print(U([1,2,3],[]) == 0.0)\n",
    "print(U([1,2,3],[-1,0]) == 6.0)\n",
    "print(U([2,3],[2,3,4]) == 2.0)\n",
    "print(U([3],[2,3,4]) == 1.5)\n",
    "print(U([],[2,3,4]) == 0.0)"
   ]
  },
  {
   "cell_type": "code",
   "execution_count": null,
   "metadata": {},
   "outputs": [],
   "source": []
  }
 ],
 "metadata": {
  "kernelspec": {
   "display_name": "Python 3",
   "language": "python",
   "name": "python3"
  },
  "language_info": {
   "codemirror_mode": {
    "name": "ipython",
    "version": 3
   },
   "file_extension": ".py",
   "mimetype": "text/x-python",
   "name": "python",
   "nbconvert_exporter": "python",
   "pygments_lexer": "ipython3",
   "version": "3.6.8"
  },
  "lecture_term": "2019A1"
 },
 "nbformat": 4,
 "nbformat_minor": 4
}
