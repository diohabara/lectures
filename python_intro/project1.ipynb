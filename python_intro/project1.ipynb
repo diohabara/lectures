{
 "cells": [
  {
   "cell_type": "markdown",
   "metadata": {},
   "source": [
    "# ミニプロジェクト / Miniproject"
   ]
  },
  {
   "cell_type": "markdown",
   "metadata": {},
   "source": [
    "## ミニプロジェクト --- 太宰治か宮沢賢治か？著者を推定してみよう（基礎課題）\n",
    "\n",
    "著者が分からない小説について、太宰治の作品か宮沢賢治の作品かを推定する手法を実装しましょう。  \n",
    "\n",
    "このプロジェクトでは、[青空文庫](https://www.aozora.gr.jp/index.html) のテキストを使用します。\n",
    "ただし、ルビや入力者注を削除するなど編集を加えています。 \n",
    "また、両著者の小説の総文字数がおよそ同じになるように、太宰治の小説数を調整しています。\n",
    "\n",
    "太宰治の小説が81、宮沢賢治の小説が148、未知の著者の小説が10与えられています。\n",
    "太宰治と宮沢賢治の文章の傾向をそれぞれ調べて、未知の10の小説それぞれを太宰治と宮沢賢治のどちらが書いたかを推測します。\n",
    "文章の傾向を評価する指標はいくつか提案されていますが、その中で文字n-gramに対する統計的指標を用います。  \n",
    "\n",
    "例えば、宮沢賢治の小説では、文末が「です、ます」調であることが多いです。\n",
    "一方、太宰は「である」調が多いです。\n",
    "したがって、各著者の小説のbi-gramを集計すると、\n",
    "宮沢賢治の小説では`です`や`す。`の出現確率が高く、太宰治の小説では`ある`や`る。`の出現確率が高くなります。\n",
    "未知の著者の小説の`です`や`す。`の出現確率が`ある`や`る。`よりも高ければ、\n",
    "著者は宮沢賢治ではないか？と予想することができそうです。\n",
    "\n",
    "ですが、宮沢賢治の小説でも「である」調を使っているものがあります。\n",
    "そこで、著者ごとに、すべての文字n-gramの出現確率の分布を求めて、\n",
    "未知の著者の文字n-gram確率分布がどちらの著者のものに近いかを調べることにしましょう。"
   ]
  },
  {
   "cell_type": "markdown",
   "metadata": {},
   "source": [
    "## Miniproject --- Guessing the author of a novel, 太宰治 or 宮沢賢治? (Basic exercises)\n",
    "\n",
    "Let's implement a method that guesses who wrote a novel of an unknown author, 太宰治 (Osamu Dazai) or 宮沢賢治 (Kenji Miyazawa).\n",
    "\n",
    "In this project, we use texts from [Aozora Bunko](https://www.aozora.gr.jp/index.html).\n",
    "We have modified the texts by removing rubies and notes written by those who typed the texts.\n",
    "We have also adjusted the number of novels by 太宰治 so that\n",
    "the total numbers of letters in novels of the two authors are nearly equal.\n",
    "\n",
    "We provide 81 novels by 太宰治, 148 novels by 宮沢賢治, and 10 novels by unknown authors.\n",
    "Observe the characteristics of the texts by 太治宰 and 宮沢賢治, and for each of the novels by unknown authors,\n",
    "guess who wrote it, 太宰治 or by 宮沢賢治.\n",
    "Among the known features for classifying texts, try to use statistical features of letter n-grams.\n",
    "\n",
    "For example, in the novels by 宮沢賢治, sentences tend to end with the です-ます style.\n",
    "On the other hand, in the novels by 太宰治, sentences tend to end with the である style.\n",
    "Therefore, given that the bi-grams in the novels by each author have been counted,\n",
    "the probability of occurrences of `です` or ` す。` should be high in the novels by 宮沢賢治,\n",
    "and that of `ある` or `る。` should be high in those by 太宰治.\n",
    "If the probability of `です` or ` す。` in the novel by an unknown author is higher than that of `ある` or `る。`,\n",
    "you can then conclude that the author is 宮沢賢治.\n",
    "\n",
    "However, some novels by 宮沢賢治 are written in the です-ます style.\n",
    "Therefore, compute the probability distribution of all the letter n-grams of each of the authors,\n",
    "and observe the similarity between the probability distribution of letter n-grams of an unknown author\n",
    "and that of 宮沢賢治 (太宰治)."
   ]
  },
  {
   "cell_type": "markdown",
   "metadata": {},
   "source": [
    "## 準備\n",
    "\n",
    "小説は、表データとして保存されています。\n",
    "表の列名は順に`author`・`title`・`text`であり、それぞれ著者名・題名・本文が入っています。\n",
    "表の各行は1つの小説の情報を格納し、その`author`列の値によって、その小説の著者を特定できます。\n",
    "\n",
    "以下の課題1と課題5では、このような表データの`DataFrame`オブジェクトが関数に渡されます。\n",
    "\n",
    "尚、`DataFrame`から取り出された1列は、for文で反復処理できます。例えば、\n",
    "```Python\n",
    "for text in novels['text']:\n",
    "    print(text)\n",
    "```\n",
    "とすると、小説の表データ `novels` から、本文を順に印字できます。"
   ]
  },
  {
   "cell_type": "markdown",
   "metadata": {},
   "source": [
    "## Preparation\n",
    "\n",
    "A dataset of novels is stored into a table.\n",
    "The table of novel data consists of the columns named `author`, `title`, and `text`,\n",
    "which contain author names in Japanese, titles, and texts of novels, respectively.\n",
    "Each row of the table stores the information of one novel;\n",
    "we can identify the author of the novel by the `author` value.  \n",
    "\n",
    "In the following Exercises 1 and 5, such a table of type `DataFrame` is given to functions.\n",
    "\n",
    "Note that for-statements can handle iterations over a column extracted from `DataFrame`. \n",
    "For example, the following for-statement\n",
    "```Python\n",
    "for text in novels['text']:\n",
    "    print(text)\n",
    "```\n",
    "prints the texts of all the novels stored in `novels`."
   ]
  },
  {
   "cell_type": "markdown",
   "metadata": {},
   "source": [
    "第3回で、n-gram の求め方を学びました。\n",
    "以下の関数 `multiline_ngrams(n,text)` は、与えられたテキスト `text` に含まれるn-gramのリストを返します。"
   ]
  },
  {
   "cell_type": "markdown",
   "metadata": {},
   "source": [
    "In the 3rd lecture, you learned how to compute n-grams.\n",
    "The following function `multiline_ngrams(n,text)` computes a list of n-grams that appear in the given text `text`."
   ]
  },
  {
   "cell_type": "code",
   "execution_count": 146,
   "metadata": {},
   "outputs": [],
   "source": [
    "def multiline_ngrams(n, text):\n",
    "    l = []\n",
    "    for sentence in text.split('\\n'):\n",
    "        for i in range(len(sentence)-n+1):\n",
    "            l.append(sentence[i:i+n])\n",
    "    return l"
   ]
  },
  {
   "cell_type": "markdown",
   "metadata": {},
   "source": [
    "以下の課題では、次のジェネレータを用いてもよいです。"
   ]
  },
  {
   "cell_type": "markdown",
   "metadata": {},
   "source": [
    "You can also use the following generator in the following exercises."
   ]
  },
  {
   "cell_type": "code",
   "execution_count": 147,
   "metadata": {},
   "outputs": [],
   "source": [
    "def multiline_ngrams_gen(n, text):\n",
    "    for sentence in text.split('\\n'):\n",
    "        for i in range(len(sentence)-n+1):\n",
    "            yield sentence[i:i+n]"
   ]
  },
  {
   "cell_type": "markdown",
   "metadata": {},
   "source": [
    "## 課題１：n-gramの抽出\n",
    "\n",
    "引数 `novels` に入っている小説のうち、`author` が書いた小説に現れるすべてのn-gramのリストもしくはイテレータを返す関数`author_ngrams(n, author, novels)` を定義してください。\n",
    "引数 `author` に著者名（太宰治か宮沢賢治）が渡されます。\n",
    "\n",
    "各n-gramは、著者のすべての小説に現れる回数だけリストもしくはイテレータに現れなければなりません。"
   ]
  },
  {
   "cell_type": "markdown",
   "metadata": {},
   "source": [
    "## Exercise 1: Extraction of n-grams\n",
    "\n",
    "Define a function `author_ngrams(n,author,novels)` which returns a list or iterator of all n-grams\n",
    "that appear in the texts in `novels` each of which is written by `author`.\n",
    "The parameter `author` is 太宰治 or 宮沢賢治.\n",
    "\n",
    "Each n-gram must appear in the list or iterator as many times as it appears in all the novels by the author."
   ]
  },
  {
   "cell_type": "code",
   "execution_count": 148,
   "metadata": {},
   "outputs": [],
   "source": [
    "##########################################################\n",
    "##  <[ project1-1-author_ngrams ]> 解答セル (Answer cell)\n",
    "##  このコメントの書き変えを禁ず (Never edit this comment)\n",
    "##########################################################\n",
    "\n",
    "def author_ngrams(n, author, novels):\n",
    "    l = []\n",
    "    novels = novels[novels.author == author]\n",
    "    for text in novels['text']:\n",
    "        l += (multiline_ngrams(n, text))\n",
    "    return l"
   ]
  },
  {
   "cell_type": "markdown",
   "metadata": {},
   "source": [
    "提出前に以下のテストセルを実行し、 `True` のみが出力されることを確認してください。"
   ]
  },
  {
   "cell_type": "markdown",
   "metadata": {},
   "source": [
    "Before submission, execute the following test cell and check if only `True` is printed."
   ]
  },
  {
   "cell_type": "code",
   "execution_count": 149,
   "metadata": {},
   "outputs": [
    {
     "name": "stdout",
     "output_type": "stream",
     "text": [
      "True\n",
      "True\n",
      "True\n",
      "True\n",
      "True\n",
      "True\n",
      "True\n",
      "True\n"
     ]
    }
   ],
   "source": [
    "def tester():\n",
    "    import pandas as pd\n",
    "    TEST_NOVELS = [['太宰治', '政治家と家庭', '頭の禿げた善良そうな記者君が何度も来て、書け書け、と頭の汗を拭きながらおっしゃるので、書きます。\\n佐倉宗五郎子別れの場、という芝居があります。ととさまえのう、と泣いて慕う子を振り切って、宗五郎は吹雪の中へ走って消えます。あれを、どうお思いでしょうか。アメリカ人が見たら、あれをどう感ずるでしょうか。ロシヤ人が見たら、何と判断するでしょうか。\\nしかし私たち日本人、殊に男が何か仕事に打ち込んだ場合、たいていこの宗五郎のようになってしまいます。\\n家族は、捨ててよいものでしょうか。日本の政治家たちは、たいてい家庭を捨てているようです。ひどいのになると、独身だか妻帯者だか、わからない人物もあります。しつけの良い家庭を営んでいる政治家は、少いように思われます。\\nしつけのよい家庭を維持しながら、よい仕事も出来るという政治家もあってよいと思います。これこそ、至難の事業であります。けれども、兄は、それが出来るかも知れない極めて少数のひとの一人だと思います。\\n無理なお願いでしょうけれどもお願いしてみます。私の為のお願いではありません。\\n'],\n",
    "                   ['宮沢賢治', '会計課', '九時六分のかけ時計\\nその青じろき盤面に\\nにはかに雪の反射来て\\nパンのかけらは床に落ち\\nインクの雫かわきたり\\n'],\n",
    "                  ]\n",
    "    TEST_NOVELS = pd.DataFrame(TEST_NOVELS, columns=['author', 'title', 'text'])\n",
    "    small_2_dazai = list(author_ngrams(2, '太宰治', TEST_NOVELS))\n",
    "    small_2_miyazawa = list(author_ngrams(2, '宮沢賢治', TEST_NOVELS))\n",
    "    print(len(small_2_dazai) == 452)\n",
    "    print(len(small_2_miyazawa) == 44)\n",
    "    print(small_2_dazai.count('す。') == 11)\n",
    "    print(small_2_miyazawa.count('のか') == 2)\n",
    "\n",
    "    novels = pd.read_csv('known_novels.csv', encoding='utf-8')\n",
    "    large_3_dazai = list(author_ngrams(3, '太宰治', novels))\n",
    "    large_3_miyazawa = list(author_ngrams(3, '宮沢賢治', novels))\n",
    "    print(len(large_3_dazai) == 899275)\n",
    "    print(len(large_3_miyazawa) == 868498)\n",
    "    print(large_3_dazai.count('である') == 2891)\n",
    "    print(large_3_miyazawa.count('である') == 290)\n",
    "tester()"
   ]
  },
  {
   "cell_type": "markdown",
   "metadata": {},
   "source": [
    "## 課題２：n-gramの出現回数\n",
    "\n",
    "n-gramのリストもしくはイテレータが与えられたとき、各々のn-gramをキーとして、\n",
    "その出現回数を値（バリュー）とする辞書を返す関数 `histogram(ngs)` を定義してください。\n",
    "引数 `ngs` には、n-gramのリストもしくはイテレータが与えられます。\n",
    "\n",
    "### 注意\n",
    "\n",
    "各n-gramに対するループの中で、さらに各n-gramを調べる、といった二重ループを書くと、\n",
    "実行時間が非常に大きくなる可能性があります。\n",
    "3-2「for文の計算量」を参照してください。\n",
    "少なくとも、この課題では二重のループは必要ありません。"
   ]
  },
  {
   "cell_type": "markdown",
   "metadata": {},
   "source": [
    "## Exercise 2: Occurrences of n-grams\n",
    "\n",
    "Define a function `histogram(ngs)`,\n",
    "which is given a list or iterator of n-grams and returns a dictionary whose keys are n-grams\n",
    "with the number of their occurrences as their value.\n",
    "The parameter `ngs` is a list or iterator of n-grams.\n",
    "\n",
    "### Attention\n",
    "\n",
    "If you write a nested loop that tests each n-gram in an outer loop that also tests each n-gram,\n",
    "then it will take a very long time to execute.\n",
    "Refer to 3-2 (complexity of for statements).\n",
    "In this exercise, no nested loop is necessary."
   ]
  },
  {
   "cell_type": "code",
   "execution_count": 150,
   "metadata": {},
   "outputs": [],
   "source": [
    "##########################################################\n",
    "##  <[ project1-2-histogram ]> 解答セル (Answer cell)\n",
    "##  このコメントの書き変えを禁ず (Never edit this comment)\n",
    "##########################################################\n",
    "\n",
    "def histogram(ngs):\n",
    "    ans = {}\n",
    "    for key in ngs:\n",
    "        ans[key] = 0\n",
    "    for key in ngs:\n",
    "        ans[key] += 1\n",
    "    return ans"
   ]
  },
  {
   "cell_type": "markdown",
   "metadata": {},
   "source": [
    "提出前に以下のテストセルを実行し、 `True` のみが出力されることを確認してください。"
   ]
  },
  {
   "cell_type": "markdown",
   "metadata": {},
   "source": [
    "Before submission, execute the following test cell and check if only `True` is printed."
   ]
  },
  {
   "cell_type": "code",
   "execution_count": 151,
   "metadata": {},
   "outputs": [
    {
     "name": "stdout",
     "output_type": "stream",
     "text": [
      "True\n",
      "True\n",
      "True\n",
      "True\n",
      "True\n",
      "True\n",
      "True\n",
      "True\n"
     ]
    }
   ],
   "source": [
    "def tester():\n",
    "    import pandas as pd\n",
    "    novels = pd.read_csv('known_novels.csv', encoding='utf-8')\n",
    "    dazai_histogram = histogram(author_ngrams(3, '太宰治', novels))\n",
    "    miyazawa_histogram = histogram(author_ngrams(3, '宮沢賢治', novels))\n",
    "    unknown_novels = pd.read_csv('unknown_novels.csv', encoding='utf-8')\n",
    "    un0_histogram = histogram(multiline_ngrams(3, unknown_novels.loc[0,'text']))\n",
    "    print(len(dazai_histogram) == 268576)\n",
    "    print(len(miyazawa_histogram) == 245770)\n",
    "    print(dazai_histogram['である'] == 2891)\n",
    "    print(miyazawa_histogram['である'] == 290)\n",
    "    print(dazai_histogram['です。'] == 1203)\n",
    "    print(miyazawa_histogram['です。'] == 1875)\n",
    "    print(un0_histogram['である'] == 4)\n",
    "    print(un0_histogram['です。'] == 18)\n",
    "tester()"
   ]
  },
  {
   "cell_type": "markdown",
   "metadata": {},
   "source": [
    "## 課題３：n-gramの確率分布\n",
    "\n",
    "課題２で定義した `histogram` によって算出されたn-gram出現回数の分布 `hist` が与えられたら、\n",
    "n-gramの確率分布を返す関数 `probability_distribution(hist)` を定義してください。\n",
    "各n-gramの出現回数を、全n-gramの出現回数の総和で割ればよいです。\n",
    "関数 `probability_distribution` は、n-gramをキーとしてその出現の確率を値とする辞書を返します。"
   ]
  },
  {
   "cell_type": "markdown",
   "metadata": {},
   "source": [
    "## Exercies 3: Probability ditributions of n-grams\n",
    "\n",
    "Define a function `probability_distribution(hist)`,\n",
    "which is given a distribution of occurrences of n-grams `hist` computed by the function `histogram` in Exercise 2,\n",
    "and returns the probability distribution of n-grams.\n",
    "The number of occurrences of each n-gram is divided by the total number of occurrences of all the n-grams.\n",
    "The function `probability_distribution` returns a dictionary\n",
    "whose keys are n-grams with the probability of their occurrences as their value."
   ]
  },
  {
   "cell_type": "code",
   "execution_count": 152,
   "metadata": {},
   "outputs": [],
   "source": [
    "##########################################################\n",
    "##  <[ project1-3-probability_distribution ]> 解答セル (Answer cell)\n",
    "##  このコメントの書き変えを禁ず (Never edit this comment)\n",
    "##########################################################\n",
    "\n",
    "def probability_distribution(hist):\n",
    "    hist_num = 0\n",
    "    for key, val in hist.items():\n",
    "        hist_num += val\n",
    "    hist_ans = {}\n",
    "    for key, val in hist.items():\n",
    "        hist_ans[key] = val / hist_num\n",
    "    return hist_ans"
   ]
  },
  {
   "cell_type": "markdown",
   "metadata": {},
   "source": [
    "提出前に以下のテストセルを実行し、 `True` のみが出力されることを確認してください。"
   ]
  },
  {
   "cell_type": "markdown",
   "metadata": {},
   "source": [
    "Before submission, execute the following test cell and check if only `True` is printed."
   ]
  },
  {
   "cell_type": "code",
   "execution_count": 153,
   "metadata": {},
   "outputs": [
    {
     "name": "stdout",
     "output_type": "stream",
     "text": [
      "True\n",
      "True\n"
     ]
    }
   ],
   "source": [
    "def tester():\n",
    "    import pandas as pd\n",
    "    novels = pd.read_csv('known_novels.csv', encoding='utf-8')\n",
    "    dazai_histogram = histogram(author_ngrams(3, '太宰治', novels))\n",
    "    miyazawa_histogram = histogram(author_ngrams(3, '宮沢賢治', novels))\n",
    "    print(round(probability_distribution(dazai_histogram)['である']*10**8) == 321481)\n",
    "    print(round(probability_distribution(miyazawa_histogram)['である']*10**8) == 33391)\n",
    "tester()"
   ]
  },
  {
   "cell_type": "markdown",
   "metadata": {},
   "source": [
    "## 課題４：n-gramの確率分布間の距離\n",
    "\n",
    "いよいよ異なる文書におけるn-gramの確率分布の間の距離を計算していきます。\n",
    "$d_1$ と $d_2$ という二つのn-gram確率分布が与えられたとしましょう。\n",
    "以下の数式では、n-gram $x$ に対して $d_i(x)$ は $d_i$ における $x$ の確率を表します。\n",
    "\n",
    "$d_1$ と $d_2$ のTankard距離は、各々のn-gramの二つのテキストにおける出現確率の差の総和です。\n",
    "同じn-gramの確率の差が大きければ大きいほど、二つの文書は異なると考えられます。\n",
    "すべてのn-gramに対してその差の平均を求めます。\n",
    "したがって、Tankard距離は次のように定義されます。 \n",
    "\n",
    "$\\mbox{Tankard}(d_1, d_2) = \n",
    "\\frac{1}{\\mbox{card}(C)} \\sum_{x \\in C} {|d_1(x) - d_2(x)|}$\n",
    "\n",
    "ここで、$C$ は $d_1$ と $d_2$ の両方で確率が正になるn-gramの集合を表していて、以下のように定義されます。\n",
    "\n",
    "$C = \\{~x~|~d_1(x)>0~\\mbox{かつ}~d_2(x) > 0 \\}$\n",
    "\n",
    "$\\mbox{card}(C)$ は集合 $C$ の要素数を表します。\n",
    "\n",
    "n-gram確率分布が辞書で表されているとき、辞書に登録されていないn-gramの確率は0と考えます。\n",
    "\n",
    "では、二つのn-gram確率分布が辞書 `d1` と `d2` として与えられたとき、それらの間のTankard距離を返す関数 `Tankard(d1,d2)` を定義してください。"
   ]
  },
  {
   "cell_type": "markdown",
   "metadata": {},
   "source": [
    "## Exercise 4: Distance between probability distributions of n-grams\n",
    "\n",
    "You now compute the distance between probability distributions of n-grams in different texts.\n",
    "Suppose that two n-gram probability distributions $d_1$ and $d_2$ are given.\n",
    "In the following mathematical expressions, $d_i(x)$ denotes the probability of an n-gram $x$ in $d_i$.\n",
    "\n",
    "The Tankard distance between $d_1$ and $d_2$ is obtained by summing the difference of the probabilities\n",
    "of each n-gram in the two texts.\n",
    "If the difference of the probabilities of each n-gram is larger, the two texts are considered more different.\n",
    "The average difference for all n-grams is then computed.\n",
    "The Tankard distance is therefore defined as follows.\n",
    "\n",
    "$\\mbox{Tankard}(d_1, d_2) =\n",
    "\\frac{1}{\\mbox{card}(C)} \\sum_{x \\in C} {|d_1(x) - d_2(x)|}$,\n",
    "\n",
    "in which $C$ denotes the set of n-grams whose probabilities in $d_1$ and $d_2$ are both positive, that is,\n",
    "\n",
    "$C = \\{~x~|~d_1(x)>0~\\mbox{ and }~d_2(x) > 0 \\}$,\n",
    "\n",
    "and $\\mbox{card}(C)$ denotes the number of elements in $C$.\n",
    "\n",
    "If an n-gram probability distribution is represented by a dictionary,\n",
    "the probability of an n-gram that is not stored in the dictionary is considered 0.\n",
    "\n",
    "Now, define a function `Tankard(d1,d2)` that returns the Tankard distance\n",
    "between the two n-gram probability distributions `d1` and `d2` that are given as dictionaries."
   ]
  },
  {
   "cell_type": "code",
   "execution_count": 154,
   "metadata": {},
   "outputs": [],
   "source": [
    "##########################################################\n",
    "##  <[ project1-4-Tankard ]> 解答セル (Answer cell)\n",
    "##  このコメントの書き変えを禁ず (Never edit this comment)\n",
    "##########################################################\n",
    "\n",
    "def Tankard(d1, d2):\n",
    "    diff_sum = 0\n",
    "    ele_num = 0\n",
    "    for key, val in d1.items():\n",
    "        if key in d2:\n",
    "            if val > 0 and d2[key] > 0:\n",
    "                diff_sum += abs(val - d2[key])\n",
    "                ele_num += 1\n",
    "    return diff_sum / ele_num"
   ]
  },
  {
   "cell_type": "markdown",
   "metadata": {},
   "source": [
    "提出前に以下のテストセルを実行し、 `True` のみが出力されることを確認してください。"
   ]
  },
  {
   "cell_type": "markdown",
   "metadata": {},
   "source": [
    "Before submission, execute the following test cell and check if only `True` is printed."
   ]
  },
  {
   "cell_type": "code",
   "execution_count": 155,
   "metadata": {},
   "outputs": [
    {
     "name": "stdout",
     "output_type": "stream",
     "text": [
      "True\n"
     ]
    }
   ],
   "source": [
    "def tester():\n",
    "    import pandas as pd\n",
    "    novels = pd.read_csv('known_novels.csv', encoding='utf-8')\n",
    "    dazai_histogram = histogram(author_ngrams(3, '太宰治', novels))\n",
    "    miyazawa_histogram = histogram(author_ngrams(3, '宮沢賢治', novels))\n",
    "    print(round(Tankard(probability_distribution(dazai_histogram),probability_distribution(miyazawa_histogram))*10**8) == 855)\n",
    "tester()"
   ]
  },
  {
   "cell_type": "markdown",
   "metadata": {},
   "source": [
    "## 課題５：著者の推定\n",
    "\n",
    "著者が未知の小説のそれぞれに対して、太宰治か宮沢賢治のどちらが書いたかを推定しましょう。\n",
    "関数 `which_author(n, known_novels, unknown_novels)` を定義してください。それは、\n",
    "* 正の整数 `n`・既知の小説データ `known_novels`・未知の小説データ `unknown_novels` を受け取り、\n",
    "* `unknown_novels`に含まれる各小説について著者を推定して、結果を順にリストで返します。\n",
    "\n",
    "推定方法は次の通りです。\n",
    "* 対象の小説のn-gramの確率分布を計算し、\n",
    "* それと`known_novels`内の太宰治の小説のn-gramの確率分布とのTankard距離と、\n",
    "* 同様に宮沢賢治との距離を求め、\n",
    "* 太宰治との距離が宮沢賢治の方よりも小さければ、文字列 `'太宰治'` を結果とし、\n",
    "* そうでなければ、文字列 `'宮沢賢治'` を結果とします。\n",
    "\n",
    "尚、未知の小説データ `unknown_novels` には、`author`列に著者名（真の解）を含みますが、これを推定に使ってはなりません。"
   ]
  },
  {
   "cell_type": "markdown",
   "metadata": {},
   "source": [
    "## Exercise 5: Guessing the author\n",
    "\n",
    "Now, let's guess who wrote unknown novels, 太宰治 or 宮沢賢治.\n",
    "Define a function `which_author(n, known_novels, unknown_novels)` that\n",
    "* takes a positive integer `n`, a dataset of known novels `known_novels`, and a dataset of unknown novels `unknown_novels`, and \n",
    "* returns a list of guessed results for all the novels in `unknown_novels` in order. \n",
    "\n",
    "The author of a novel is guessed as follows:\n",
    "* Calculate the n-gram probability distribution of a given unknown novel;\n",
    "* Calculate its Tankard distance to that of the novels of 太宰治 in `known_novels`;\n",
    "* Calculate its Tankard distance to that of 宮沢賢治 in `known_novels`;\n",
    "* Conclude that the author is `'太宰治'` if the distance to 太宰治 is smaller than that to 宮沢賢治,\n",
    "* Conclude that the author is `'宮沢賢治'` otherwise.\n",
    "\n",
    "Note that `unknown_novels` contains author information (i.e., true solutions) in the `author` column, but you are not allowed to use it for guessing."
   ]
  },
  {
   "cell_type": "code",
   "execution_count": 156,
   "metadata": {},
   "outputs": [],
   "source": [
    "##########################################################\n",
    "##  <[ project1-5-which_author ]> 解答セル (Answer cell)\n",
    "##  このコメントの書き変えを禁ず (Never edit this comment)\n",
    "##########################################################\n",
    "\n",
    "def which_author(n, known_novels, unknown_novels):\n",
    "    ans = []\n",
    "    dazai_ngrams = author_ngrams(n, \"太宰治\", known_novels)\n",
    "    dazai_hist = histogram(dazai_ngrams)\n",
    "    dazai_d = probability_distribution(dazai_hist)\n",
    "\n",
    "    miyazawa_ngrams = author_ngrams(n,  \"宮沢賢治\", known_novels)\n",
    "    miyazawa_hist = histogram(miyazawa_ngrams)\n",
    "    miyazawa_d = probability_distribution(miyazawa_hist)\n",
    "\n",
    "    ngram_l = []\n",
    "    for text in unknown_novels[\"text\"]:\n",
    "        ngram_l = multiline_ngrams(n, text)\n",
    "        unknown_hist = histogram(ngram_l)\n",
    "        unknown_d = probability_distribution(unknown_hist)\n",
    "\n",
    "        dazai_unknown_distance = Tankard(dazai_d, unknown_d)\n",
    "        miyazawa_unknown_distance = Tankard(miyazawa_d, unknown_d)\n",
    "\n",
    "        if dazai_unknown_distance < miyazawa_unknown_distance:\n",
    "            ans.append(\"太宰治\")\n",
    "        else:\n",
    "            ans.append(\"宮沢賢治\")\n",
    "    return ans"
   ]
  },
  {
   "cell_type": "markdown",
   "metadata": {},
   "source": [
    "提出前に以下のテストセルを実行し、 `True` のみが出力されることを確認してください。"
   ]
  },
  {
   "cell_type": "markdown",
   "metadata": {},
   "source": [
    "Before submission, execute the following test cell and check if only `True` is printed."
   ]
  },
  {
   "cell_type": "code",
   "execution_count": 157,
   "metadata": {},
   "outputs": [
    {
     "name": "stdout",
     "output_type": "stream",
     "text": [
      "True\n"
     ]
    }
   ],
   "source": [
    "def tester():\n",
    "    import pandas as pd\n",
    "    known_novels = pd.read_csv('known_novels.csv', encoding='utf-8')\n",
    "    unknown_novels = pd.read_csv('unknown_novels.csv', encoding='utf-8')\n",
    "    print(which_author(3, known_novels, unknown_novels) == ['太宰治', '太宰治', '太宰治', '太宰治', '太宰治', '宮沢賢治', '宮沢賢治', '宮沢賢治', '宮沢賢治', '宮沢賢治'])\n",
    "tester()"
   ]
  },
  {
   "cell_type": "code",
   "execution_count": null,
   "metadata": {},
   "outputs": [],
   "source": []
  }
 ],
 "metadata": {
  "kernelspec": {
   "display_name": "Python 3",
   "language": "python",
   "name": "python3"
  },
  "language_info": {
   "codemirror_mode": {
    "name": "ipython",
    "version": 3
   },
   "file_extension": ".py",
   "mimetype": "text/x-python",
   "name": "python",
   "nbconvert_exporter": "python",
   "pygments_lexer": "ipython3",
   "version": "3.7.3"
  },
  "lecture_term": "2019A1"
 },
 "nbformat": 4,
 "nbformat_minor": 2
}
